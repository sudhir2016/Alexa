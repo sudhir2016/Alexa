{
  "nbformat": 4,
  "nbformat_minor": 0,
  "metadata": {
    "colab": {
      "name": "Modis.ipynb",
      "provenance": [],
      "authorship_tag": "ABX9TyMnDymL0h8BG9yI8C39Wo2Z",
      "include_colab_link": true
    },
    "kernelspec": {
      "name": "python3",
      "display_name": "Python 3"
    }
  },
  "cells": [
    {
      "cell_type": "markdown",
      "metadata": {
        "id": "view-in-github",
        "colab_type": "text"
      },
      "source": [
        "<a href=\"https://colab.research.google.com/github/sudhir2016/Alexa/blob/master/Modis.ipynb\" target=\"_parent\"><img src=\"https://colab.research.google.com/assets/colab-badge.svg\" alt=\"Open In Colab\"/></a>"
      ]
    },
    {
      "cell_type": "code",
      "metadata": {
        "id": "-1jxwPOpkxF7",
        "colab_type": "code",
        "colab": {}
      },
      "source": [
        "import ee\n",
        "import numpy as np"
      ],
      "execution_count": null,
      "outputs": []
    },
    {
      "cell_type": "code",
      "metadata": {
        "id": "5Vvrpt1Ek3Yj",
        "colab_type": "code",
        "colab": {
          "base_uri": "https://localhost:8080/",
          "height": 173
        },
        "outputId": "99942d3a-132b-4d57-99fe-b6f18d18d1a2"
      },
      "source": [
        "ee.Authenticate()"
      ],
      "execution_count": null,
      "outputs": [
        {
          "output_type": "stream",
          "text": [
            "To authorize access needed by Earth Engine, open the following URL in a web browser and follow the instructions. If the web browser does not start automatically, please manually browse the URL below.\n",
            "\n",
            "    https://accounts.google.com/o/oauth2/auth?client_id=517222506229-vsmmajv00ul0bs7p89v5m89qs8eb9359.apps.googleusercontent.com&scope=https%3A%2F%2Fwww.googleapis.com%2Fauth%2Fearthengine+https%3A%2F%2Fwww.googleapis.com%2Fauth%2Fdevstorage.full_control&redirect_uri=urn%3Aietf%3Awg%3Aoauth%3A2.0%3Aoob&response_type=code&code_challenge=KkEx0fl3U6lunlAW657sr7RFaKcIQqNj401lYEX9ol4&code_challenge_method=S256\n",
            "\n",
            "The authorization workflow will generate a code, which you should paste in the box below. \n",
            "Enter verification code: 4/3QFZob4Ow3bjJG-Ri90L0GAfBi-x8fhKF5g2aXvSAB6VJFLyqbvSjnQ\n",
            "\n",
            "Successfully saved authorization token.\n"
          ],
          "name": "stdout"
        }
      ]
    },
    {
      "cell_type": "code",
      "metadata": {
        "id": "YuuxGSr_lAZ3",
        "colab_type": "code",
        "colab": {}
      },
      "source": [
        "ee.Initialize()"
      ],
      "execution_count": null,
      "outputs": []
    },
    {
      "cell_type": "code",
      "metadata": {
        "id": "uTp1PUSvlEth",
        "colab_type": "code",
        "colab": {}
      },
      "source": [
        "Modis = ee.ImageCollection('MODIS/006/MOD13Q1')"
      ],
      "execution_count": null,
      "outputs": []
    },
    {
      "cell_type": "code",
      "metadata": {
        "id": "N5BygzpoladU",
        "colab_type": "code",
        "colab": {}
      },
      "source": [
        "Modis1= Modis.filterDate('2020-01-01','2020-01-31')"
      ],
      "execution_count": null,
      "outputs": []
    },
    {
      "cell_type": "code",
      "metadata": {
        "id": "qcl3VipjmJF7",
        "colab_type": "code",
        "colab": {}
      },
      "source": [
        "aoi = ee.Geometry.Rectangle([78.82,21.21,78.9,21.22])"
      ],
      "execution_count": null,
      "outputs": []
    },
    {
      "cell_type": "code",
      "metadata": {
        "id": "57hOtEGFmLDs",
        "colab_type": "code",
        "colab": {}
      },
      "source": [
        "Modis_aoi = Modis1.filterBounds(aoi)"
      ],
      "execution_count": null,
      "outputs": []
    },
    {
      "cell_type": "code",
      "metadata": {
        "id": "0Ma7DiJnmVIF",
        "colab_type": "code",
        "colab": {
          "base_uri": "https://localhost:8080/",
          "height": 1000
        },
        "outputId": "adcb501b-61e0-40ef-eb4b-1a659c822278"
      },
      "source": [
        "Modis_aoi.getInfo()"
      ],
      "execution_count": null,
      "outputs": [
        {
          "output_type": "execute_result",
          "data": {
            "text/plain": [
              "{'bands': [],\n",
              " 'features': [{'bands': [{'crs': 'SR-ORG:6974',\n",
              "     'crs_transform': [231.656358264,\n",
              "      0,\n",
              "      -20015109.354,\n",
              "      0,\n",
              "      -231.656358264,\n",
              "      10007554.677],\n",
              "     'data_type': {'max': 32767,\n",
              "      'min': -32768,\n",
              "      'precision': 'int',\n",
              "      'type': 'PixelType'},\n",
              "     'dimensions': [172800, 86400],\n",
              "     'id': 'NDVI'},\n",
              "    {'crs': 'SR-ORG:6974',\n",
              "     'crs_transform': [231.656358264,\n",
              "      0,\n",
              "      -20015109.354,\n",
              "      0,\n",
              "      -231.656358264,\n",
              "      10007554.677],\n",
              "     'data_type': {'max': 32767,\n",
              "      'min': -32768,\n",
              "      'precision': 'int',\n",
              "      'type': 'PixelType'},\n",
              "     'dimensions': [172800, 86400],\n",
              "     'id': 'EVI'},\n",
              "    {'crs': 'SR-ORG:6974',\n",
              "     'crs_transform': [231.656358264,\n",
              "      0,\n",
              "      -20015109.354,\n",
              "      0,\n",
              "      -231.656358264,\n",
              "      10007554.677],\n",
              "     'data_type': {'max': 65535,\n",
              "      'min': 0,\n",
              "      'precision': 'int',\n",
              "      'type': 'PixelType'},\n",
              "     'dimensions': [172800, 86400],\n",
              "     'id': 'DetailedQA'},\n",
              "    {'crs': 'SR-ORG:6974',\n",
              "     'crs_transform': [231.656358264,\n",
              "      0,\n",
              "      -20015109.354,\n",
              "      0,\n",
              "      -231.656358264,\n",
              "      10007554.677],\n",
              "     'data_type': {'max': 32767,\n",
              "      'min': -32768,\n",
              "      'precision': 'int',\n",
              "      'type': 'PixelType'},\n",
              "     'dimensions': [172800, 86400],\n",
              "     'id': 'sur_refl_b01'},\n",
              "    {'crs': 'SR-ORG:6974',\n",
              "     'crs_transform': [231.656358264,\n",
              "      0,\n",
              "      -20015109.354,\n",
              "      0,\n",
              "      -231.656358264,\n",
              "      10007554.677],\n",
              "     'data_type': {'max': 32767,\n",
              "      'min': -32768,\n",
              "      'precision': 'int',\n",
              "      'type': 'PixelType'},\n",
              "     'dimensions': [172800, 86400],\n",
              "     'id': 'sur_refl_b02'},\n",
              "    {'crs': 'SR-ORG:6974',\n",
              "     'crs_transform': [231.656358264,\n",
              "      0,\n",
              "      -20015109.354,\n",
              "      0,\n",
              "      -231.656358264,\n",
              "      10007554.677],\n",
              "     'data_type': {'max': 32767,\n",
              "      'min': -32768,\n",
              "      'precision': 'int',\n",
              "      'type': 'PixelType'},\n",
              "     'dimensions': [172800, 86400],\n",
              "     'id': 'sur_refl_b03'},\n",
              "    {'crs': 'SR-ORG:6974',\n",
              "     'crs_transform': [231.656358264,\n",
              "      0,\n",
              "      -20015109.354,\n",
              "      0,\n",
              "      -231.656358264,\n",
              "      10007554.677],\n",
              "     'data_type': {'max': 32767,\n",
              "      'min': -32768,\n",
              "      'precision': 'int',\n",
              "      'type': 'PixelType'},\n",
              "     'dimensions': [172800, 86400],\n",
              "     'id': 'sur_refl_b07'},\n",
              "    {'crs': 'SR-ORG:6974',\n",
              "     'crs_transform': [231.656358264,\n",
              "      0,\n",
              "      -20015109.354,\n",
              "      0,\n",
              "      -231.656358264,\n",
              "      10007554.677],\n",
              "     'data_type': {'max': 32767,\n",
              "      'min': -32768,\n",
              "      'precision': 'int',\n",
              "      'type': 'PixelType'},\n",
              "     'dimensions': [172800, 86400],\n",
              "     'id': 'ViewZenith'},\n",
              "    {'crs': 'SR-ORG:6974',\n",
              "     'crs_transform': [231.656358264,\n",
              "      0,\n",
              "      -20015109.354,\n",
              "      0,\n",
              "      -231.656358264,\n",
              "      10007554.677],\n",
              "     'data_type': {'max': 32767,\n",
              "      'min': -32768,\n",
              "      'precision': 'int',\n",
              "      'type': 'PixelType'},\n",
              "     'dimensions': [172800, 86400],\n",
              "     'id': 'SolarZenith'},\n",
              "    {'crs': 'SR-ORG:6974',\n",
              "     'crs_transform': [231.656358264,\n",
              "      0,\n",
              "      -20015109.354,\n",
              "      0,\n",
              "      -231.656358264,\n",
              "      10007554.677],\n",
              "     'data_type': {'max': 32767,\n",
              "      'min': -32768,\n",
              "      'precision': 'int',\n",
              "      'type': 'PixelType'},\n",
              "     'dimensions': [172800, 86400],\n",
              "     'id': 'RelativeAzimuth'},\n",
              "    {'crs': 'SR-ORG:6974',\n",
              "     'crs_transform': [231.656358264,\n",
              "      0,\n",
              "      -20015109.354,\n",
              "      0,\n",
              "      -231.656358264,\n",
              "      10007554.677],\n",
              "     'data_type': {'max': 32767,\n",
              "      'min': -32768,\n",
              "      'precision': 'int',\n",
              "      'type': 'PixelType'},\n",
              "     'dimensions': [172800, 86400],\n",
              "     'id': 'DayOfYear'},\n",
              "    {'crs': 'SR-ORG:6974',\n",
              "     'crs_transform': [231.656358264,\n",
              "      0,\n",
              "      -20015109.354,\n",
              "      0,\n",
              "      -231.656358264,\n",
              "      10007554.677],\n",
              "     'data_type': {'max': 127,\n",
              "      'min': -128,\n",
              "      'precision': 'int',\n",
              "      'type': 'PixelType'},\n",
              "     'dimensions': [172800, 86400],\n",
              "     'id': 'SummaryQA'}],\n",
              "   'id': 'MODIS/006/MOD13Q1/2020_01_01',\n",
              "   'properties': {'system:asset_size': 28863080355,\n",
              "    'system:footprint': {'coordinates': [[-180, -90],\n",
              "      [180, -90],\n",
              "      [180, 90],\n",
              "      [-180, 90],\n",
              "      [-180, -90]],\n",
              "     'type': 'LinearRing'},\n",
              "    'system:index': '2020_01_01',\n",
              "    'system:time_end': 1579219200000,\n",
              "    'system:time_start': 1577836800000},\n",
              "   'type': 'Image',\n",
              "   'version': 1579569310856779},\n",
              "  {'bands': [{'crs': 'SR-ORG:6974',\n",
              "     'crs_transform': [231.656358264,\n",
              "      0,\n",
              "      -20015109.354,\n",
              "      0,\n",
              "      -231.656358264,\n",
              "      10007554.677],\n",
              "     'data_type': {'max': 32767,\n",
              "      'min': -32768,\n",
              "      'precision': 'int',\n",
              "      'type': 'PixelType'},\n",
              "     'dimensions': [172800, 86400],\n",
              "     'id': 'NDVI'},\n",
              "    {'crs': 'SR-ORG:6974',\n",
              "     'crs_transform': [231.656358264,\n",
              "      0,\n",
              "      -20015109.354,\n",
              "      0,\n",
              "      -231.656358264,\n",
              "      10007554.677],\n",
              "     'data_type': {'max': 32767,\n",
              "      'min': -32768,\n",
              "      'precision': 'int',\n",
              "      'type': 'PixelType'},\n",
              "     'dimensions': [172800, 86400],\n",
              "     'id': 'EVI'},\n",
              "    {'crs': 'SR-ORG:6974',\n",
              "     'crs_transform': [231.656358264,\n",
              "      0,\n",
              "      -20015109.354,\n",
              "      0,\n",
              "      -231.656358264,\n",
              "      10007554.677],\n",
              "     'data_type': {'max': 65535,\n",
              "      'min': 0,\n",
              "      'precision': 'int',\n",
              "      'type': 'PixelType'},\n",
              "     'dimensions': [172800, 86400],\n",
              "     'id': 'DetailedQA'},\n",
              "    {'crs': 'SR-ORG:6974',\n",
              "     'crs_transform': [231.656358264,\n",
              "      0,\n",
              "      -20015109.354,\n",
              "      0,\n",
              "      -231.656358264,\n",
              "      10007554.677],\n",
              "     'data_type': {'max': 32767,\n",
              "      'min': -32768,\n",
              "      'precision': 'int',\n",
              "      'type': 'PixelType'},\n",
              "     'dimensions': [172800, 86400],\n",
              "     'id': 'sur_refl_b01'},\n",
              "    {'crs': 'SR-ORG:6974',\n",
              "     'crs_transform': [231.656358264,\n",
              "      0,\n",
              "      -20015109.354,\n",
              "      0,\n",
              "      -231.656358264,\n",
              "      10007554.677],\n",
              "     'data_type': {'max': 32767,\n",
              "      'min': -32768,\n",
              "      'precision': 'int',\n",
              "      'type': 'PixelType'},\n",
              "     'dimensions': [172800, 86400],\n",
              "     'id': 'sur_refl_b02'},\n",
              "    {'crs': 'SR-ORG:6974',\n",
              "     'crs_transform': [231.656358264,\n",
              "      0,\n",
              "      -20015109.354,\n",
              "      0,\n",
              "      -231.656358264,\n",
              "      10007554.677],\n",
              "     'data_type': {'max': 32767,\n",
              "      'min': -32768,\n",
              "      'precision': 'int',\n",
              "      'type': 'PixelType'},\n",
              "     'dimensions': [172800, 86400],\n",
              "     'id': 'sur_refl_b03'},\n",
              "    {'crs': 'SR-ORG:6974',\n",
              "     'crs_transform': [231.656358264,\n",
              "      0,\n",
              "      -20015109.354,\n",
              "      0,\n",
              "      -231.656358264,\n",
              "      10007554.677],\n",
              "     'data_type': {'max': 32767,\n",
              "      'min': -32768,\n",
              "      'precision': 'int',\n",
              "      'type': 'PixelType'},\n",
              "     'dimensions': [172800, 86400],\n",
              "     'id': 'sur_refl_b07'},\n",
              "    {'crs': 'SR-ORG:6974',\n",
              "     'crs_transform': [231.656358264,\n",
              "      0,\n",
              "      -20015109.354,\n",
              "      0,\n",
              "      -231.656358264,\n",
              "      10007554.677],\n",
              "     'data_type': {'max': 32767,\n",
              "      'min': -32768,\n",
              "      'precision': 'int',\n",
              "      'type': 'PixelType'},\n",
              "     'dimensions': [172800, 86400],\n",
              "     'id': 'ViewZenith'},\n",
              "    {'crs': 'SR-ORG:6974',\n",
              "     'crs_transform': [231.656358264,\n",
              "      0,\n",
              "      -20015109.354,\n",
              "      0,\n",
              "      -231.656358264,\n",
              "      10007554.677],\n",
              "     'data_type': {'max': 32767,\n",
              "      'min': -32768,\n",
              "      'precision': 'int',\n",
              "      'type': 'PixelType'},\n",
              "     'dimensions': [172800, 86400],\n",
              "     'id': 'SolarZenith'},\n",
              "    {'crs': 'SR-ORG:6974',\n",
              "     'crs_transform': [231.656358264,\n",
              "      0,\n",
              "      -20015109.354,\n",
              "      0,\n",
              "      -231.656358264,\n",
              "      10007554.677],\n",
              "     'data_type': {'max': 32767,\n",
              "      'min': -32768,\n",
              "      'precision': 'int',\n",
              "      'type': 'PixelType'},\n",
              "     'dimensions': [172800, 86400],\n",
              "     'id': 'RelativeAzimuth'},\n",
              "    {'crs': 'SR-ORG:6974',\n",
              "     'crs_transform': [231.656358264,\n",
              "      0,\n",
              "      -20015109.354,\n",
              "      0,\n",
              "      -231.656358264,\n",
              "      10007554.677],\n",
              "     'data_type': {'max': 32767,\n",
              "      'min': -32768,\n",
              "      'precision': 'int',\n",
              "      'type': 'PixelType'},\n",
              "     'dimensions': [172800, 86400],\n",
              "     'id': 'DayOfYear'},\n",
              "    {'crs': 'SR-ORG:6974',\n",
              "     'crs_transform': [231.656358264,\n",
              "      0,\n",
              "      -20015109.354,\n",
              "      0,\n",
              "      -231.656358264,\n",
              "      10007554.677],\n",
              "     'data_type': {'max': 127,\n",
              "      'min': -128,\n",
              "      'precision': 'int',\n",
              "      'type': 'PixelType'},\n",
              "     'dimensions': [172800, 86400],\n",
              "     'id': 'SummaryQA'}],\n",
              "   'id': 'MODIS/006/MOD13Q1/2020_01_17',\n",
              "   'properties': {'system:asset_size': 30352376487,\n",
              "    'system:footprint': {'coordinates': [[-180, -90],\n",
              "      [180, -90],\n",
              "      [180, 90],\n",
              "      [-180, 90],\n",
              "      [-180, -90]],\n",
              "     'type': 'LinearRing'},\n",
              "    'system:index': '2020_01_17',\n",
              "    'system:time_end': 1580601600000,\n",
              "    'system:time_start': 1579219200000},\n",
              "   'type': 'Image',\n",
              "   'version': 1580928520875525}],\n",
              " 'id': 'MODIS/006/MOD13Q1',\n",
              " 'properties': {'date_range': [950832000000, 1595808000000],\n",
              "  'description': '<p>The MOD13Q1 V6 product provides a Vegetation Index (VI) value at a per pixel basis. There are two primary vegetation layers. The first is the Normalized Difference Vegetation Index (NDVI) which is referred to as the continuity index to the existing National Oceanic and Atmospheric Administration-Advanced Very High Resolution Radiometer (NOAA-AVHRR) derived NDVI. The second vegetation layer is the Enhanced Vegetation Index (EVI) that minimizes canopy background variations and maintains sensitivity over dense vegetation conditions. The EVI also uses the blue band to remove residual atmosphere contamination caused by smoke and sub-pixel thin cloud clouds. The MODIS NDVI and EVI products are computed from atmospherically corrected bi-directional surface reflectances that have been masked for water, clouds, heavy aerosols, and cloud shadows.</p><p><b>Resolution</b><br>250 meters\\n</p><p><b>Cadence</b><br>\\n  16 days\\n</p><p><b>Bands</b><table class=\"eecat\"><tr><th scope=\"col\">Name</th><th scope=\"col\">Description</th></tr><tr><td>NDVI</td><td><p>Normalized Difference Vegetation Index</p></td></tr><tr><td>EVI</td><td><p>Enhanced Vegetation Index</p></td></tr><tr><td>DetailedQA</td><td><p>VI quality indicators</p></td></tr><tr><td colspan=100>\\n      Bitmask for DetailedQA\\n<ul><li>\\n          Bits 0-1: VI quality (MODLAND QA Bits)\\n<ul><li>0: VI produced with good quality</li><li>1: VI produced, but check other QA</li><li>2: Pixel produced, but most probably cloudy</li><li>3: Pixel not produced due to other reasons than clouds</li></ul></li><li>\\n          Bits 2-5: VI usefulness\\n<ul><li>0: Highest quality</li><li>1: Lower quality</li><li>2: Decreasing quality</li><li>4: Decreasing quality</li><li>8: Decreasing quality</li><li>9: Decreasing quality</li><li>10: Decreasing quality</li><li>12: Lowest quality</li><li>13: Quality so low that it is not useful</li><li>14: L1B data faulty</li><li>15: Not useful for any other reason/not processed</li></ul></li><li>\\n          Bits 6-7: Aerosol Quantity\\n<ul><li>0: Climatology</li><li>1: Low</li><li>2: Intermediate</li><li>3: High</li></ul></li><li>\\n          Bit 8: Adjacent cloud detected\\n<ul><li>0: No</li><li>1: Yes</li></ul></li><li>\\n          Bit 9: Atmosphere BRDF correction\\n<ul><li>0: No</li><li>1: Yes</li></ul></li><li>\\n          Bit 10: Mixed Clouds\\n<ul><li>0: No</li><li>1: Yes</li></ul></li><li>\\n          Bits 11-13: Land/water mask\\n<ul><li>0: Shallow ocean</li><li>1: Land (nothing else but land)</li><li>2: Ocean coastlines and lake shorelines</li><li>3: Shallow inland water</li><li>4: Ephemeral water</li><li>5: Deep inland water</li><li>6: Moderate or continental ocean</li><li>7: Deep ocean</li></ul></li><li>\\n          Bit 14: Possible snow/ice\\n<ul><li>0: No</li><li>1: Yes</li></ul></li><li>\\n          Bit 15: Possible shadow\\n<ul><li>0: No</li><li>1: Yes</li></ul></li></ul></td></tr><tr><td>sur_refl_b01</td><td><p>Red surface reflectance</p></td></tr><tr><td>sur_refl_b02</td><td><p>NIR surface reflectance</p></td></tr><tr><td>sur_refl_b03</td><td><p>Blue surface reflectance</p></td></tr><tr><td>sur_refl_b07</td><td><p>MIR surface reflectance</p></td></tr><tr><td>ViewZenith</td><td><p>View zenith angle</p></td></tr><tr><td>SolarZenith</td><td><p>Solar zenith angle</p></td></tr><tr><td>RelativeAzimuth</td><td><p>Relative azimuth angle</p></td></tr><tr><td>DayOfYear</td><td><p>Julian day of year</p></td></tr><tr><td>SummaryQA</td><td><p>Quality reliability of VI pixel</p></td></tr><tr><td colspan=100>\\n      Bitmask for SummaryQA\\n<ul><li>\\n          Bits 0-1: VI quality (MODLAND QA Bits)\\n<ul><li>0: Good data, use with confidence</li><li>1: Marginal data, useful but look at detailed QA for more information</li><li>2: Pixel covered with snow/ice</li><li>3: Pixel is cloudy</li></ul></li></ul></td></tr></table><p><b>Terms of Use</b><br><p>MODIS data and products acquired through the LP DAAC have no restrictions on subsequent use, sale, or redistribution.</p><br><b>Dataset\\'s DOI(s)</b><ul><li><p><a href=\"https://doi.org/10.5067/MODIS/MOD13Q1.006\">https://doi.org/10.5067/MODIS/MOD13Q1.006</a></li></ul><p><b>Suggested citation(s)</b><ul><li><p>Please visit <a href=\"https://lpdaac.usgs.gov/citing_our_data\">LP DAAC &#39;Citing Our Data&#39; page</a> for information on citing LP DAAC datasets.</p></li></ul><style>\\n  table.eecat {\\n  border: 1px solid black;\\n  border-collapse: collapse;\\n  font-size: 13px;\\n  }\\n  table.eecat td, tr, th {\\n  text-align: left; vertical-align: top;\\n  border: 1px solid gray; padding: 3px;\\n  }\\n  td.nobreak { white-space: nowrap; }\\n</style>',\n",
              "  'period': 0,\n",
              "  'period_mapping': [950832000000,\n",
              "   978307200000,\n",
              "   978307200000,\n",
              "   1009843200000,\n",
              "   1009843200000,\n",
              "   1041379200000,\n",
              "   1041379200000,\n",
              "   1072915200000,\n",
              "   1072915200000,\n",
              "   1104537600000,\n",
              "   1104537600000,\n",
              "   1136073600000,\n",
              "   1136073600000,\n",
              "   1167609600000,\n",
              "   1167609600000,\n",
              "   1199145600000,\n",
              "   1199145600000,\n",
              "   1230768000000,\n",
              "   1230768000000,\n",
              "   1262304000000,\n",
              "   1262304000000,\n",
              "   1293840000000,\n",
              "   1293840000000,\n",
              "   1325376000000,\n",
              "   1325376000000,\n",
              "   1356998400000,\n",
              "   1356998400000,\n",
              "   1388534400000,\n",
              "   1388534400000,\n",
              "   1420070400000,\n",
              "   1420070400000,\n",
              "   1451606400000,\n",
              "   1451606400000,\n",
              "   1483228800000,\n",
              "   1483228800000,\n",
              "   1514764800000,\n",
              "   1514764800000,\n",
              "   1524441600000],\n",
              "  'product_tags': ['vegetation', 'ndvi', 'evi'],\n",
              "  'provider': 'NASA LP DAAC at the USGS EROS Center',\n",
              "  'provider_url': 'https://doi.org/10.5067/MODIS/MOD13Q1.006',\n",
              "  'sample': 'https://mw1.google.com/ges/dd/images/MOD13Q1_sample.png',\n",
              "  'source_tags': ['modis',\n",
              "   'mod13q1',\n",
              "   '16-day',\n",
              "   'global',\n",
              "   'terra',\n",
              "   'usgs',\n",
              "   'nasa'],\n",
              "  'system:is_global': 1,\n",
              "  'system:visualization_0_bands': 'NDVI',\n",
              "  'system:visualization_0_bias': 0,\n",
              "  'system:visualization_0_gain': '0.0001',\n",
              "  'system:visualization_0_max': '8000.0',\n",
              "  'system:visualization_0_min': '0.0',\n",
              "  'system:visualization_0_name': 'NDVI',\n",
              "  'system:visualization_0_palette': 'FFFFFF,CE7E45,DF923D,F1B555,FCD163,99B718,74A901,66A000,529400,3E8601,207401,056201,004C00,023B01,012E01,011D01,011301',\n",
              "  'tags': ['modis',\n",
              "   'mod13q1',\n",
              "   '16-day',\n",
              "   'global',\n",
              "   'terra',\n",
              "   'usgs',\n",
              "   'nasa',\n",
              "   'vegetation',\n",
              "   'ndvi',\n",
              "   'evi'],\n",
              "  'thumb': 'https://mw1.google.com/ges/dd/images/MOD13Q1_thumb.png',\n",
              "  'title': 'MOD13Q1.006 Terra Vegetation Indices 16-Day Global 250m',\n",
              "  'type_name': 'ImageCollection',\n",
              "  'visualization_0_bands': 'NDVI',\n",
              "  'visualization_0_gain': '0.0001',\n",
              "  'visualization_0_max': '8000.0',\n",
              "  'visualization_0_min': '0.0',\n",
              "  'visualization_0_name': 'NDVI',\n",
              "  'visualization_0_palette': 'FFFFFF,CE7E45,DF923D,F1B555,FCD163,99B718,74A901,66A000,529400,3E8601,207401,056201,004C00,023B01,012E01,011D01,011301'},\n",
              " 'type': 'ImageCollection',\n",
              " 'version': 1597498020171055}"
            ]
          },
          "metadata": {
            "tags": []
          },
          "execution_count": 8
        }
      ]
    },
    {
      "cell_type": "code",
      "metadata": {
        "id": "yHylFf8ooRRv",
        "colab_type": "code",
        "colab": {
          "base_uri": "https://localhost:8080/",
          "height": 34
        },
        "outputId": "708ac8e5-e8a9-43f6-fd40-7cf7c388efb9"
      },
      "source": [
        "Modis_aoi.size().getInfo()"
      ],
      "execution_count": null,
      "outputs": [
        {
          "output_type": "execute_result",
          "data": {
            "text/plain": [
              "6"
            ]
          },
          "metadata": {
            "tags": []
          },
          "execution_count": 39
        }
      ]
    },
    {
      "cell_type": "code",
      "metadata": {
        "id": "ycnKzL6mn1CK",
        "colab_type": "code",
        "colab": {}
      },
      "source": [
        "image=ee.Image('MODIS/006/MOD13Q1/2020_01_17')"
      ],
      "execution_count": null,
      "outputs": []
    },
    {
      "cell_type": "code",
      "metadata": {
        "id": "5f7RWL4txihx",
        "colab_type": "code",
        "colab": {}
      },
      "source": [
        "img=image.select('NDVI')"
      ],
      "execution_count": null,
      "outputs": []
    },
    {
      "cell_type": "code",
      "metadata": {
        "id": "qOHL-Oi-yDpX",
        "colab_type": "code",
        "colab": {
          "base_uri": "https://localhost:8080/",
          "height": 459
        },
        "outputId": "4e2e91e3-69f5-49fe-8db1-a3311f73dcbc"
      },
      "source": [
        "img.getInfo()"
      ],
      "execution_count": null,
      "outputs": [
        {
          "output_type": "execute_result",
          "data": {
            "text/plain": [
              "{'bands': [{'crs': 'SR-ORG:6974',\n",
              "   'crs_transform': [231.656358264,\n",
              "    0,\n",
              "    -20015109.354,\n",
              "    0,\n",
              "    -231.656358264,\n",
              "    10007554.677],\n",
              "   'data_type': {'max': 32767,\n",
              "    'min': -32768,\n",
              "    'precision': 'int',\n",
              "    'type': 'PixelType'},\n",
              "   'dimensions': [172800, 86400],\n",
              "   'id': 'NDVI'}],\n",
              " 'id': 'MODIS/006/MOD13Q1/2020_01_17',\n",
              " 'properties': {'system:asset_size': 30352376487,\n",
              "  'system:footprint': {'coordinates': [[-180, -90],\n",
              "    [180, -90],\n",
              "    [180, 90],\n",
              "    [-180, 90],\n",
              "    [-180, -90]],\n",
              "   'type': 'LinearRing'},\n",
              "  'system:index': '2020_01_17',\n",
              "  'system:time_end': 1580601600000,\n",
              "  'system:time_start': 1579219200000},\n",
              " 'type': 'Image',\n",
              " 'version': 1580928520875525}"
            ]
          },
          "metadata": {
            "tags": []
          },
          "execution_count": 11
        }
      ]
    },
    {
      "cell_type": "code",
      "metadata": {
        "id": "OdmHXlvzoGOD",
        "colab_type": "code",
        "colab": {}
      },
      "source": [
        "aoi = ee.Geometry.Polygon(\n",
        "  [[[78.8218808546662,\n",
        "                    21.2157966157438],\n",
        "    [78.8212257251143,\n",
        "                    21.2160247788734],\n",
        "    [78.8211181014776,\n",
        "                    21.215640651977],\n",
        "    [78.8210181891918,\n",
        "                    21.2156684691739],\n",
        "    [78.8209279999137,\n",
        "                    21.2155431354699],\n",
        "    [78.8208294287324,\n",
        "                    21.2155584505666],\n",
        "    [78.8207285106182,\n",
        "                    21.2152596496171],\n",
        "    [78.8206017762423,\n",
        "                    21.2142988566901],\n",
        "    [78.8217091932893,\n",
        "                    21.2141897747296],\n",
        "    [78.8218808546662,\n",
        "                    21.2157966157438\n",
        "                ]]], None, False)"
      ],
      "execution_count": null,
      "outputs": []
    },
    {
      "cell_type": "code",
      "metadata": {
        "id": "cLjgojAgoi5D",
        "colab_type": "code",
        "colab": {}
      },
      "source": [
        "#band_arrs = img.sampleRectangle(region=aoi)"
      ],
      "execution_count": null,
      "outputs": []
    },
    {
      "cell_type": "code",
      "metadata": {
        "id": "TWXkzycwzOwX",
        "colab_type": "code",
        "colab": {}
      },
      "source": [
        "ndvi = img.sampleRectangle(region=aoi)"
      ],
      "execution_count": null,
      "outputs": []
    },
    {
      "cell_type": "code",
      "metadata": {
        "id": "qyFIn7dWopVV",
        "colab_type": "code",
        "colab": {}
      },
      "source": [
        "et = image.get('NDVI')"
      ],
      "execution_count": null,
      "outputs": []
    },
    {
      "cell_type": "code",
      "metadata": {
        "id": "W_MxmmKHpuA-",
        "colab_type": "code",
        "colab": {}
      },
      "source": [
        "et.getInfo()"
      ],
      "execution_count": null,
      "outputs": []
    },
    {
      "cell_type": "code",
      "metadata": {
        "id": "Ow2IasImo2uA",
        "colab_type": "code",
        "colab": {
          "base_uri": "https://localhost:8080/",
          "height": 54
        },
        "outputId": "1c9451fa-f597-45d7-d3fd-0365e0928e0e"
      },
      "source": [
        "et = np.array(ndvi.getInfo())\n",
        "print(et)"
      ],
      "execution_count": null,
      "outputs": [
        {
          "output_type": "stream",
          "text": [
            "{'type': 'Feature', 'geometry': {'geodesic': False, 'type': 'Polygon', 'coordinates': [[[78.8218808546662, 21.2157966157438], [78.8212257251143, 21.2160247788734], [78.8211181014776, 21.215640651977], [78.8210181891918, 21.2156684691739], [78.8209279999137, 21.2155431354699], [78.8208294287324, 21.2155584505666], [78.8207285106182, 21.2152596496171], [78.8206017762423, 21.2142988566901], [78.8217091932893, 21.2141897747296], [78.8218808546662, 21.2157966157438]]]}, 'properties': {'NDVI': [[4856, 6170], [5278, 5512]]}}\n"
          ],
          "name": "stdout"
        }
      ]
    }
  ]
}