{
  "nbformat": 4,
  "nbformat_minor": 0,
  "metadata": {
    "colab": {
      "name": "Sentinal_Prod.ipynb",
      "provenance": [],
      "collapsed_sections": [],
      "authorship_tag": "ABX9TyMaBjtWjt7tB6J0yBJHDe8z",
      "include_colab_link": true
    },
    "kernelspec": {
      "name": "python3",
      "display_name": "Python 3"
    }
  },
  "cells": [
    {
      "cell_type": "markdown",
      "metadata": {
        "id": "view-in-github",
        "colab_type": "text"
      },
      "source": [
        "<a href=\"https://colab.research.google.com/github/sudhir2016/Alexa/blob/master/Sentinal_Prod.ipynb\" target=\"_parent\"><img src=\"https://colab.research.google.com/assets/colab-badge.svg\" alt=\"Open In Colab\"/></a>"
      ]
    },
    {
      "cell_type": "markdown",
      "metadata": {
        "id": "dnhitYmUDvaK"
      },
      "source": [
        "Install sentinalsat, geopandas and rasterio."
      ]
    },
    {
      "cell_type": "code",
      "metadata": {
        "id": "USkzgZGED7iv"
      },
      "source": [
        "! pip install sentinelsat"
      ],
      "execution_count": null,
      "outputs": []
    },
    {
      "cell_type": "code",
      "metadata": {
        "id": "N49y9erYn2_9"
      },
      "source": [
        "! pip install geopandas"
      ],
      "execution_count": null,
      "outputs": []
    },
    {
      "cell_type": "code",
      "metadata": {
        "id": "whocVGN7oVsb"
      },
      "source": [
        "! pip install rasterio"
      ],
      "execution_count": null,
      "outputs": []
    },
    {
      "cell_type": "markdown",
      "metadata": {
        "id": "B52BVeQxEBSG"
      },
      "source": [
        "Various imports."
      ]
    },
    {
      "cell_type": "code",
      "metadata": {
        "id": "bmlINOZLnvRL"
      },
      "source": [
        "from sentinelsat import SentinelAPI,read_geojson, geojson_to_wkt\n",
        "import geopandas as gpd\n",
        "import rasterio as rio\n",
        "from rasterio.plot import show\n",
        "from rasterio import mask\n",
        "import numpy as np\n",
        "import glob\n",
        "import matplotlib.pyplot as plt"
      ],
      "execution_count": null,
      "outputs": []
    },
    {
      "cell_type": "markdown",
      "metadata": {
        "id": "QK5U3-zQEGw2"
      },
      "source": [
        "User name and Password for Sentinal."
      ]
    },
    {
      "cell_type": "code",
      "metadata": {
        "id": "7CtX1njrM4BP"
      },
      "source": [
        "user= 'UID'"
      ],
      "execution_count": null,
      "outputs": []
    },
    {
      "cell_type": "code",
      "metadata": {
        "id": "5gQtK6LwM_5X"
      },
      "source": [
        "password= 'PWD'"
      ],
      "execution_count": null,
      "outputs": []
    },
    {
      "cell_type": "markdown",
      "metadata": {
        "id": "V4eZfxuPFFE1"
      },
      "source": [
        "Create sentinal query based on our plot coordinates,  required time window and cloud cover filter. Sentinal will provide list of availalble tiles called products."
      ]
    },
    {
      "cell_type": "code",
      "metadata": {
        "id": "-NW_fVGINFEw"
      },
      "source": [
        "api = SentinelAPI(user, password, 'https://scihub.copernicus.eu/dhus')"
      ],
      "execution_count": null,
      "outputs": []
    },
    {
      "cell_type": "code",
      "metadata": {
        "id": "qIp1qCYiS6MS"
      },
      "source": [
        "footprint = geojson_to_wkt(read_geojson('plot.geojson'))"
      ],
      "execution_count": null,
      "outputs": []
    },
    {
      "cell_type": "code",
      "metadata": {
        "id": "A57H5HpiSpjE"
      },
      "source": [
        "products = api.query(footprint,\n",
        "                     date = ('20201101', '20201130'),\n",
        "                     platformname = 'Sentinel-2',\n",
        "                     processinglevel = 'Level-2A',\n",
        "                     cloudcoverpercentage = (0,100)\n",
        "                    )"
      ],
      "execution_count": null,
      "outputs": []
    },
    {
      "cell_type": "markdown",
      "metadata": {
        "id": "sI52YLYhIn6w"
      },
      "source": [
        "load products as geopandas dataframe."
      ]
    },
    {
      "cell_type": "code",
      "metadata": {
        "id": "SY2AOtcGk3TZ"
      },
      "source": [
        "products_gdf = api.to_geodataframe(products)\n",
        "#print(products_gdf)"
      ],
      "execution_count": null,
      "outputs": []
    },
    {
      "cell_type": "markdown",
      "metadata": {
        "id": "jeUXr0rnGvko"
      },
      "source": [
        "Obtain ID of most recent Sentinal dataset."
      ]
    },
    {
      "cell_type": "code",
      "metadata": {
        "id": "BGtEXB57tzel"
      },
      "source": [
        "uuid=products_gdf['uuid']"
      ],
      "execution_count": null,
      "outputs": []
    },
    {
      "cell_type": "code",
      "metadata": {
        "id": "VWH7wM66KKte"
      },
      "source": [
        "#cloud=products_gdf['cloudcoverpercentage']\n",
        "#print(cloud)"
      ],
      "execution_count": null,
      "outputs": []
    },
    {
      "cell_type": "code",
      "metadata": {
        "id": "s3fOjRq2zkJQ"
      },
      "source": [
        "uuid1=uuid[0]\n",
        "#print(uuid1)"
      ],
      "execution_count": null,
      "outputs": []
    },
    {
      "cell_type": "markdown",
      "metadata": {
        "id": "ybHhA3esHXxo"
      },
      "source": [
        "Download most recent Sentinal data."
      ]
    },
    {
      "cell_type": "code",
      "metadata": {
        "id": "drHGzgGcl0ot"
      },
      "source": [
        "api.download(uuid1)"
      ],
      "execution_count": null,
      "outputs": []
    },
    {
      "cell_type": "markdown",
      "metadata": {
        "id": "Ei4RjgIwHfuO"
      },
      "source": [
        "Obtain filename of downloaded Sentilnal zip file."
      ]
    },
    {
      "cell_type": "code",
      "metadata": {
        "id": "usAzSam4e6qX"
      },
      "source": [
        "for name in glob.glob('/content/*.zip'):\n",
        "  file=name\n",
        "#print(file)"
      ],
      "execution_count": null,
      "outputs": []
    },
    {
      "cell_type": "markdown",
      "metadata": {
        "id": "7vnUqBLiJEwQ"
      },
      "source": [
        "Unzip Sentinal file."
      ]
    },
    {
      "cell_type": "code",
      "metadata": {
        "id": "3Bc-57nmgVAN"
      },
      "source": [
        "! unzip '$file'"
      ],
      "execution_count": null,
      "outputs": []
    },
    {
      "cell_type": "markdown",
      "metadata": {
        "id": "s0xZr5tULSMG"
      },
      "source": [
        "Obtain the name to the Sentinal data directory."
      ]
    },
    {
      "cell_type": "code",
      "metadata": {
        "id": "Me81pZsNLcOL"
      },
      "source": [
        "for name in glob.glob('/content/*.SAFE'):\n",
        "  file1=name\n",
        "#print(file1)"
      ],
      "execution_count": null,
      "outputs": []
    },
    {
      "cell_type": "markdown",
      "metadata": {
        "id": "dl6w8k-oM2I9"
      },
      "source": [
        "Obtain the path of the Sentinal image data."
      ]
    },
    {
      "cell_type": "code",
      "metadata": {
        "id": "2pVeY2_HMHwQ"
      },
      "source": [
        "for name in glob.glob(file1+'/GRANULE/*'):\n",
        "  file2=name\n",
        "#print(file2)"
      ],
      "execution_count": null,
      "outputs": []
    },
    {
      "cell_type": "markdown",
      "metadata": {
        "id": "Ou5DFzPDRAeX"
      },
      "source": [
        "Obtain the file names of B2(B),B3(G),B4(R) and B8(NIR) channel images."
      ]
    },
    {
      "cell_type": "code",
      "metadata": {
        "id": "PMBXmyxLXKQ-"
      },
      "source": [
        "file3=[]"
      ],
      "execution_count": null,
      "outputs": []
    },
    {
      "cell_type": "code",
      "metadata": {
        "id": "DcKc6PN-Wa2l"
      },
      "source": [
        "for name in glob.glob(file2+'/IMG_DATA/R10m/*'):\n",
        "  file3.append(name)\n",
        "file3.sort()\n",
        "#print(file3)"
      ],
      "execution_count": null,
      "outputs": []
    },
    {
      "cell_type": "markdown",
      "metadata": {
        "id": "IvCARpmMRN_N"
      },
      "source": [
        "Read the B4 and B8 channel data."
      ]
    },
    {
      "cell_type": "code",
      "metadata": {
        "id": "5D1FtXQrZOBr"
      },
      "source": [
        "b4=rio.open(file3[3])"
      ],
      "execution_count": null,
      "outputs": []
    },
    {
      "cell_type": "code",
      "metadata": {
        "id": "upgmmxvsaA4X"
      },
      "source": [
        "b8=rio.open(file3[4])"
      ],
      "execution_count": null,
      "outputs": []
    },
    {
      "cell_type": "markdown",
      "metadata": {
        "id": "xy-SCMbYSP8H"
      },
      "source": [
        "Read B4(red) and B8(NIR) data and calculate NDVI."
      ]
    },
    {
      "cell_type": "code",
      "metadata": {
        "id": "ni_S9zbzBsrV"
      },
      "source": [
        "red = b4.read()\n",
        "nir = b8.read()"
      ],
      "execution_count": null,
      "outputs": []
    },
    {
      "cell_type": "code",
      "metadata": {
        "id": "nWhL6pLsDCe2"
      },
      "source": [
        "ndvi = (nir.astype(float)-red.astype(float))/(nir+red)"
      ],
      "execution_count": null,
      "outputs": []
    },
    {
      "cell_type": "markdown",
      "metadata": {
        "id": "LbuwtZN9StCn"
      },
      "source": [
        "Create NDVI tiff file."
      ]
    },
    {
      "cell_type": "code",
      "metadata": {
        "id": "5rA6IYYPDg6-"
      },
      "source": [
        "meta = b4.meta\n",
        "meta.update(driver='GTiff')\n",
        "meta.update(dtype=rio.float32)\n",
        "\n",
        "with rio.open('NDVI.tiff', 'w', **meta) as dst:\n",
        "    dst.write(ndvi.astype(rio.float32))"
      ],
      "execution_count": null,
      "outputs": []
    },
    {
      "cell_type": "markdown",
      "metadata": {
        "id": "d7AXjmN2TPU8"
      },
      "source": [
        "Show NDVI for complete Sentinal tile."
      ]
    },
    {
      "cell_type": "code",
      "metadata": {
        "id": "n3E_iDkzEEAN"
      },
      "source": [
        "src = rio.open(\"NDVI.tiff\")\n",
        "#show(src)"
      ],
      "execution_count": null,
      "outputs": []
    },
    {
      "cell_type": "markdown",
      "metadata": {
        "id": "g5VvnCGkT3Td"
      },
      "source": [
        "Extract the Coordinate Reference System(crs) of the Sentinal data."
      ]
    },
    {
      "cell_type": "code",
      "metadata": {
        "id": "m9WHYG90sffD",
        "outputId": "4ecd998e-d261-426e-99d8-75ea03001f3d",
        "colab": {
          "base_uri": "https://localhost:8080/"
        }
      },
      "source": [
        "crs=src.crs\n",
        "print(crs)"
      ],
      "execution_count": null,
      "outputs": [
        {
          "output_type": "stream",
          "text": [
            "EPSG:32644\n"
          ],
          "name": "stdout"
        }
      ]
    },
    {
      "cell_type": "markdown",
      "metadata": {
        "id": "a6FD4gfZUbiu"
      },
      "source": [
        "Convert plot coodinates to Sentinal crs."
      ]
    },
    {
      "cell_type": "code",
      "metadata": {
        "id": "ANk0VziC9Zfa"
      },
      "source": [
        "plot=gpd.read_file('plot.geojson')"
      ],
      "execution_count": null,
      "outputs": []
    },
    {
      "cell_type": "code",
      "metadata": {
        "id": "4S46bBPB_mqv"
      },
      "source": [
        "plot1=plot.to_crs({'init': crs})"
      ],
      "execution_count": null,
      "outputs": []
    },
    {
      "cell_type": "code",
      "metadata": {
        "id": "5-18qkPC_OHN"
      },
      "source": [
        "geo=plot1.geometry\n",
        "#print(geo)"
      ],
      "execution_count": null,
      "outputs": []
    },
    {
      "cell_type": "markdown",
      "metadata": {
        "id": "VZNpqTjOWVRD"
      },
      "source": [
        "Extract plot NDVI."
      ]
    },
    {
      "cell_type": "code",
      "metadata": {
        "id": "hLmeUB96BVxI"
      },
      "source": [
        "with rio.open(\"NDVI.tiff\") as src:\n",
        "    out_image, out_transform = rio.mask.mask(src,geo,crop=True)\n",
        "    out_meta = src.meta.copy()\n",
        "    out_meta.update({\"driver\": \"GTiff\",\n",
        "                 \"height\": out_image.shape[1],\n",
        "                 \"width\": out_image.shape[2],\n",
        "                 \"transform\": out_transform})"
      ],
      "execution_count": null,
      "outputs": []
    },
    {
      "cell_type": "markdown",
      "metadata": {
        "id": "cJiKCJ9-WwFm"
      },
      "source": [
        "Create NDVI tiff file for plot and show."
      ]
    },
    {
      "cell_type": "code",
      "metadata": {
        "id": "f-QTnQXvBgzd"
      },
      "source": [
        "with rio.open(\"NDVI_plot.tiff\", \"w\", **out_meta) as dest:\n",
        "    dest.write(out_image)"
      ],
      "execution_count": null,
      "outputs": []
    },
    {
      "cell_type": "code",
      "metadata": {
        "id": "_iccWwEeDkxk"
      },
      "source": [
        "src = rio.open(\"NDVI_plot.tiff\")\n",
        "plt.imshow(src.read(1),cmap='YlGn')\n",
        "plt.colorbar()"
      ],
      "execution_count": null,
      "outputs": []
    }
  ]
}