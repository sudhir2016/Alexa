{
  "nbformat": 4,
  "nbformat_minor": 0,
  "metadata": {
    "colab": {
      "name": "MSI_ISRO.ipynb",
      "provenance": [],
      "authorship_tag": "ABX9TyMBuWVXKTZI5dseDBS5OgqB",
      "include_colab_link": true
    },
    "kernelspec": {
      "name": "python3",
      "display_name": "Python 3"
    }
  },
  "cells": [
    {
      "cell_type": "markdown",
      "metadata": {
        "id": "view-in-github",
        "colab_type": "text"
      },
      "source": [
        "<a href=\"https://colab.research.google.com/github/sudhir2016/Alexa/blob/master/MSI_ISRO.ipynb\" target=\"_parent\"><img src=\"https://colab.research.google.com/assets/colab-badge.svg\" alt=\"Open In Colab\"/></a>"
      ]
    },
    {
      "cell_type": "code",
      "metadata": {
        "id": "y8-0Ph6C7B7F",
        "colab_type": "code",
        "colab": {
          "base_uri": "https://localhost:8080/",
          "height": 326
        },
        "outputId": "18899f67-014b-4f3d-9cc3-7e600eaf85c5"
      },
      "source": [
        "!pip install rasterio"
      ],
      "execution_count": 1,
      "outputs": [
        {
          "output_type": "stream",
          "text": [
            "Collecting rasterio\n",
            "\u001b[?25l  Downloading https://files.pythonhosted.org/packages/02/7e/eed7dfd109fc89ed3cf8b5ed3f26f841b03b92f6ca1c31c4745f938a081b/rasterio-1.1.5-cp36-cp36m-manylinux1_x86_64.whl (18.2MB)\n",
            "\u001b[K     |████████████████████████████████| 18.2MB 1.3MB/s \n",
            "\u001b[?25hCollecting click-plugins\n",
            "  Downloading https://files.pythonhosted.org/packages/e9/da/824b92d9942f4e472702488857914bdd50f73021efea15b4cad9aca8ecef/click_plugins-1.1.1-py2.py3-none-any.whl\n",
            "Requirement already satisfied: click<8,>=4.0 in /usr/local/lib/python3.6/dist-packages (from rasterio) (7.1.2)\n",
            "Collecting affine\n",
            "  Downloading https://files.pythonhosted.org/packages/ac/a6/1a39a1ede71210e3ddaf623982b06ecfc5c5c03741ae659073159184cd3e/affine-2.3.0-py2.py3-none-any.whl\n",
            "Requirement already satisfied: numpy in /usr/local/lib/python3.6/dist-packages (from rasterio) (1.18.5)\n",
            "Collecting cligj>=0.5\n",
            "  Downloading https://files.pythonhosted.org/packages/e4/be/30a58b4b0733850280d01f8bd132591b4668ed5c7046761098d665ac2174/cligj-0.5.0-py3-none-any.whl\n",
            "Requirement already satisfied: attrs in /usr/local/lib/python3.6/dist-packages (from rasterio) (20.1.0)\n",
            "Collecting snuggs>=1.4.1\n",
            "  Downloading https://files.pythonhosted.org/packages/cc/0e/d27d6e806d6c0d1a2cfdc5d1f088e42339a0a54a09c3343f7f81ec8947ea/snuggs-1.4.7-py3-none-any.whl\n",
            "Requirement already satisfied: pyparsing>=2.1.6 in /usr/local/lib/python3.6/dist-packages (from snuggs>=1.4.1->rasterio) (2.4.7)\n",
            "Installing collected packages: click-plugins, affine, cligj, snuggs, rasterio\n",
            "Successfully installed affine-2.3.0 click-plugins-1.1.1 cligj-0.5.0 rasterio-1.1.5 snuggs-1.4.7\n"
          ],
          "name": "stdout"
        }
      ]
    },
    {
      "cell_type": "code",
      "metadata": {
        "id": "clL-rH7G3u8l",
        "colab_type": "code",
        "colab": {
          "base_uri": "https://localhost:8080/",
          "height": 428
        },
        "outputId": "f1d6a41c-f78a-4765-f887-db18385998fd"
      },
      "source": [
        "! pip install geopandas"
      ],
      "execution_count": 131,
      "outputs": [
        {
          "output_type": "stream",
          "text": [
            "Collecting geopandas\n",
            "\u001b[?25l  Downloading https://files.pythonhosted.org/packages/f7/a4/e66aafbefcbb717813bf3a355c8c4fc3ed04ea1dd7feb2920f2f4f868921/geopandas-0.8.1-py2.py3-none-any.whl (962kB)\n",
            "\r\u001b[K     |▍                               | 10kB 19.2MB/s eta 0:00:01\r\u001b[K     |▊                               | 20kB 1.8MB/s eta 0:00:01\r\u001b[K     |█                               | 30kB 2.3MB/s eta 0:00:01\r\u001b[K     |█▍                              | 40kB 2.5MB/s eta 0:00:01\r\u001b[K     |█▊                              | 51kB 2.0MB/s eta 0:00:01\r\u001b[K     |██                              | 61kB 2.3MB/s eta 0:00:01\r\u001b[K     |██▍                             | 71kB 2.6MB/s eta 0:00:01\r\u001b[K     |██▊                             | 81kB 2.7MB/s eta 0:00:01\r\u001b[K     |███                             | 92kB 2.9MB/s eta 0:00:01\r\u001b[K     |███▍                            | 102kB 2.9MB/s eta 0:00:01\r\u001b[K     |███▊                            | 112kB 2.9MB/s eta 0:00:01\r\u001b[K     |████                            | 122kB 2.9MB/s eta 0:00:01\r\u001b[K     |████▍                           | 133kB 2.9MB/s eta 0:00:01\r\u001b[K     |████▊                           | 143kB 2.9MB/s eta 0:00:01\r\u001b[K     |█████                           | 153kB 2.9MB/s eta 0:00:01\r\u001b[K     |█████▌                          | 163kB 2.9MB/s eta 0:00:01\r\u001b[K     |█████▉                          | 174kB 2.9MB/s eta 0:00:01\r\u001b[K     |██████▏                         | 184kB 2.9MB/s eta 0:00:01\r\u001b[K     |██████▌                         | 194kB 2.9MB/s eta 0:00:01\r\u001b[K     |██████▉                         | 204kB 2.9MB/s eta 0:00:01\r\u001b[K     |███████▏                        | 215kB 2.9MB/s eta 0:00:01\r\u001b[K     |███████▌                        | 225kB 2.9MB/s eta 0:00:01\r\u001b[K     |███████▉                        | 235kB 2.9MB/s eta 0:00:01\r\u001b[K     |████████▏                       | 245kB 2.9MB/s eta 0:00:01\r\u001b[K     |████████▌                       | 256kB 2.9MB/s eta 0:00:01\r\u001b[K     |████████▉                       | 266kB 2.9MB/s eta 0:00:01\r\u001b[K     |█████████▏                      | 276kB 2.9MB/s eta 0:00:01\r\u001b[K     |█████████▌                      | 286kB 2.9MB/s eta 0:00:01\r\u001b[K     |█████████▉                      | 296kB 2.9MB/s eta 0:00:01\r\u001b[K     |██████████▏                     | 307kB 2.9MB/s eta 0:00:01\r\u001b[K     |██████████▌                     | 317kB 2.9MB/s eta 0:00:01\r\u001b[K     |███████████                     | 327kB 2.9MB/s eta 0:00:01\r\u001b[K     |███████████▎                    | 337kB 2.9MB/s eta 0:00:01\r\u001b[K     |███████████▋                    | 348kB 2.9MB/s eta 0:00:01\r\u001b[K     |████████████                    | 358kB 2.9MB/s eta 0:00:01\r\u001b[K     |████████████▎                   | 368kB 2.9MB/s eta 0:00:01\r\u001b[K     |████████████▋                   | 378kB 2.9MB/s eta 0:00:01\r\u001b[K     |█████████████                   | 389kB 2.9MB/s eta 0:00:01\r\u001b[K     |█████████████▎                  | 399kB 2.9MB/s eta 0:00:01\r\u001b[K     |█████████████▋                  | 409kB 2.9MB/s eta 0:00:01\r\u001b[K     |██████████████                  | 419kB 2.9MB/s eta 0:00:01\r\u001b[K     |██████████████▎                 | 430kB 2.9MB/s eta 0:00:01\r\u001b[K     |██████████████▋                 | 440kB 2.9MB/s eta 0:00:01\r\u001b[K     |███████████████                 | 450kB 2.9MB/s eta 0:00:01\r\u001b[K     |███████████████▎                | 460kB 2.9MB/s eta 0:00:01\r\u001b[K     |███████████████▋                | 471kB 2.9MB/s eta 0:00:01\r\u001b[K     |████████████████                | 481kB 2.9MB/s eta 0:00:01\r\u001b[K     |████████████████▍               | 491kB 2.9MB/s eta 0:00:01\r\u001b[K     |████████████████▊               | 501kB 2.9MB/s eta 0:00:01\r\u001b[K     |█████████████████               | 512kB 2.9MB/s eta 0:00:01\r\u001b[K     |█████████████████▍              | 522kB 2.9MB/s eta 0:00:01\r\u001b[K     |█████████████████▊              | 532kB 2.9MB/s eta 0:00:01\r\u001b[K     |██████████████████              | 542kB 2.9MB/s eta 0:00:01\r\u001b[K     |██████████████████▍             | 552kB 2.9MB/s eta 0:00:01\r\u001b[K     |██████████████████▊             | 563kB 2.9MB/s eta 0:00:01\r\u001b[K     |███████████████████             | 573kB 2.9MB/s eta 0:00:01\r\u001b[K     |███████████████████▍            | 583kB 2.9MB/s eta 0:00:01\r\u001b[K     |███████████████████▊            | 593kB 2.9MB/s eta 0:00:01\r\u001b[K     |████████████████████            | 604kB 2.9MB/s eta 0:00:01\r\u001b[K     |████████████████████▍           | 614kB 2.9MB/s eta 0:00:01\r\u001b[K     |████████████████████▊           | 624kB 2.9MB/s eta 0:00:01\r\u001b[K     |█████████████████████           | 634kB 2.9MB/s eta 0:00:01\r\u001b[K     |█████████████████████▍          | 645kB 2.9MB/s eta 0:00:01\r\u001b[K     |█████████████████████▉          | 655kB 2.9MB/s eta 0:00:01\r\u001b[K     |██████████████████████▏         | 665kB 2.9MB/s eta 0:00:01\r\u001b[K     |██████████████████████▌         | 675kB 2.9MB/s eta 0:00:01\r\u001b[K     |██████████████████████▉         | 686kB 2.9MB/s eta 0:00:01\r\u001b[K     |███████████████████████▏        | 696kB 2.9MB/s eta 0:00:01\r\u001b[K     |███████████████████████▌        | 706kB 2.9MB/s eta 0:00:01\r\u001b[K     |███████████████████████▉        | 716kB 2.9MB/s eta 0:00:01\r\u001b[K     |████████████████████████▏       | 727kB 2.9MB/s eta 0:00:01\r\u001b[K     |████████████████████████▌       | 737kB 2.9MB/s eta 0:00:01\r\u001b[K     |████████████████████████▉       | 747kB 2.9MB/s eta 0:00:01\r\u001b[K     |█████████████████████████▏      | 757kB 2.9MB/s eta 0:00:01\r\u001b[K     |█████████████████████████▌      | 768kB 2.9MB/s eta 0:00:01\r\u001b[K     |█████████████████████████▉      | 778kB 2.9MB/s eta 0:00:01\r\u001b[K     |██████████████████████████▏     | 788kB 2.9MB/s eta 0:00:01\r\u001b[K     |██████████████████████████▌     | 798kB 2.9MB/s eta 0:00:01\r\u001b[K     |██████████████████████████▉     | 808kB 2.9MB/s eta 0:00:01\r\u001b[K     |███████████████████████████▎    | 819kB 2.9MB/s eta 0:00:01\r\u001b[K     |███████████████████████████▋    | 829kB 2.9MB/s eta 0:00:01\r\u001b[K     |████████████████████████████    | 839kB 2.9MB/s eta 0:00:01\r\u001b[K     |████████████████████████████▎   | 849kB 2.9MB/s eta 0:00:01\r\u001b[K     |████████████████████████████▋   | 860kB 2.9MB/s eta 0:00:01\r\u001b[K     |█████████████████████████████   | 870kB 2.9MB/s eta 0:00:01\r\u001b[K     |█████████████████████████████▎  | 880kB 2.9MB/s eta 0:00:01\r\u001b[K     |█████████████████████████████▋  | 890kB 2.9MB/s eta 0:00:01\r\u001b[K     |██████████████████████████████  | 901kB 2.9MB/s eta 0:00:01\r\u001b[K     |██████████████████████████████▎ | 911kB 2.9MB/s eta 0:00:01\r\u001b[K     |██████████████████████████████▋ | 921kB 2.9MB/s eta 0:00:01\r\u001b[K     |███████████████████████████████ | 931kB 2.9MB/s eta 0:00:01\r\u001b[K     |███████████████████████████████▎| 942kB 2.9MB/s eta 0:00:01\r\u001b[K     |███████████████████████████████▋| 952kB 2.9MB/s eta 0:00:01\r\u001b[K     |████████████████████████████████| 962kB 2.9MB/s eta 0:00:01\r\u001b[K     |████████████████████████████████| 972kB 2.9MB/s \n",
            "\u001b[?25hRequirement already satisfied: pandas>=0.23.0 in /usr/local/lib/python3.6/dist-packages (from geopandas) (1.0.5)\n",
            "Collecting pyproj>=2.2.0\n",
            "\u001b[?25l  Downloading https://files.pythonhosted.org/packages/e5/c3/071e080230ac4b6c64f1a2e2f9161c9737a2bc7b683d2c90b024825000c0/pyproj-2.6.1.post1-cp36-cp36m-manylinux2010_x86_64.whl (10.9MB)\n",
            "\u001b[K     |████████████████████████████████| 10.9MB 17.5MB/s \n",
            "\u001b[?25hRequirement already satisfied: shapely in /usr/local/lib/python3.6/dist-packages (from geopandas) (1.7.1)\n",
            "Collecting fiona\n",
            "\u001b[?25l  Downloading https://files.pythonhosted.org/packages/ec/20/4e63bc5c6e62df889297b382c3ccd4a7a488b00946aaaf81a118158c6f09/Fiona-1.8.13.post1-cp36-cp36m-manylinux1_x86_64.whl (14.7MB)\n",
            "\u001b[K     |████████████████████████████████| 14.7MB 307kB/s \n",
            "\u001b[?25hRequirement already satisfied: pytz>=2017.2 in /usr/local/lib/python3.6/dist-packages (from pandas>=0.23.0->geopandas) (2018.9)\n",
            "Requirement already satisfied: python-dateutil>=2.6.1 in /usr/local/lib/python3.6/dist-packages (from pandas>=0.23.0->geopandas) (2.8.1)\n",
            "Requirement already satisfied: numpy>=1.13.3 in /usr/local/lib/python3.6/dist-packages (from pandas>=0.23.0->geopandas) (1.18.5)\n",
            "Collecting munch\n",
            "  Downloading https://files.pythonhosted.org/packages/cc/ab/85d8da5c9a45e072301beb37ad7f833cd344e04c817d97e0cc75681d248f/munch-2.5.0-py2.py3-none-any.whl\n",
            "Requirement already satisfied: attrs>=17 in /usr/local/lib/python3.6/dist-packages (from fiona->geopandas) (20.1.0)\n",
            "Requirement already satisfied: six>=1.7 in /usr/local/lib/python3.6/dist-packages (from fiona->geopandas) (1.15.0)\n",
            "Requirement already satisfied: cligj>=0.5 in /usr/local/lib/python3.6/dist-packages (from fiona->geopandas) (0.5.0)\n",
            "Requirement already satisfied: click<8,>=4.0 in /usr/local/lib/python3.6/dist-packages (from fiona->geopandas) (7.1.2)\n",
            "Requirement already satisfied: click-plugins>=1.0 in /usr/local/lib/python3.6/dist-packages (from fiona->geopandas) (1.1.1)\n",
            "Installing collected packages: pyproj, munch, fiona, geopandas\n",
            "Successfully installed fiona-1.8.13.post1 geopandas-0.8.1 munch-2.5.0 pyproj-2.6.1.post1\n"
          ],
          "name": "stdout"
        }
      ]
    },
    {
      "cell_type": "code",
      "metadata": {
        "id": "lwNXs1Zr30qf",
        "colab_type": "code",
        "colab": {}
      },
      "source": [
        "import geopandas as gpd"
      ],
      "execution_count": 132,
      "outputs": []
    },
    {
      "cell_type": "code",
      "metadata": {
        "id": "8P5t-mh875it",
        "colab_type": "code",
        "colab": {}
      },
      "source": [
        "import rasterio as rio\n",
        "import numpy as np"
      ],
      "execution_count": 9,
      "outputs": []
    },
    {
      "cell_type": "code",
      "metadata": {
        "id": "mxtgGJtR7-q0",
        "colab_type": "code",
        "colab": {}
      },
      "source": [
        "img=rio.open('/content/SM_SMAP_I_20200823_20200825.tif')"
      ],
      "execution_count": 3,
      "outputs": []
    },
    {
      "cell_type": "code",
      "metadata": {
        "id": "9AnirAa4p3b0",
        "colab_type": "code",
        "colab": {}
      },
      "source": [
        "img_aug=rio.open('/content/SM_SMAP_I_20200824_20200826.tif')"
      ],
      "execution_count": 103,
      "outputs": []
    },
    {
      "cell_type": "code",
      "metadata": {
        "id": "scNAiErzqzsd",
        "colab_type": "code",
        "colab": {}
      },
      "source": [
        "img_may=rio.open('/content/SM_SMAP_I_20200522_20200524.tif')"
      ],
      "execution_count": 104,
      "outputs": []
    },
    {
      "cell_type": "code",
      "metadata": {
        "id": "PksqioHr8TRu",
        "colab_type": "code",
        "colab": {
          "base_uri": "https://localhost:8080/",
          "height": 34
        },
        "outputId": "4443881e-2847-4886-8376-b7df5545e784"
      },
      "source": [
        "img.shape"
      ],
      "execution_count": 87,
      "outputs": [
        {
          "output_type": "execute_result",
          "data": {
            "text/plain": [
              "(256, 272)"
            ]
          },
          "metadata": {
            "tags": []
          },
          "execution_count": 87
        }
      ]
    },
    {
      "cell_type": "code",
      "metadata": {
        "id": "jLU6axtJDtXu",
        "colab_type": "code",
        "colab": {}
      },
      "source": [
        "img.meta"
      ],
      "execution_count": null,
      "outputs": []
    },
    {
      "cell_type": "code",
      "metadata": {
        "id": "h6tqI20i8fH4",
        "colab_type": "code",
        "colab": {}
      },
      "source": [
        " from rasterio.plot import show"
      ],
      "execution_count": 5,
      "outputs": []
    },
    {
      "cell_type": "code",
      "metadata": {
        "id": "Hvm9g_epOUVL",
        "colab_type": "code",
        "colab": {}
      },
      "source": [
        "from matplotlib import pyplot as plt\n",
        "import matplotlib"
      ],
      "execution_count": 122,
      "outputs": []
    },
    {
      "cell_type": "code",
      "metadata": {
        "id": "kQolqhvX8hKJ",
        "colab_type": "code",
        "colab": {
          "base_uri": "https://localhost:8080/",
          "height": 282
        },
        "outputId": "4eecefdd-16bf-4434-85df-d058d991955e"
      },
      "source": [
        "show(img_aug)"
      ],
      "execution_count": 108,
      "outputs": [
        {
          "output_type": "display_data",
          "data": {
            "image/png": "[encoded data removed]",
            "text/plain": [
              "<Figure size 432x288 with 1 Axes>"
            ]
          },
          "metadata": {
            "tags": [],
            "needs_background": "light"
          }
        },
        {
          "output_type": "execute_result",
          "data": {
            "text/plain": [
              "<matplotlib.axes._subplots.AxesSubplot at 0x7fd1ca780048>"
            ]
          },
          "metadata": {
            "tags": []
          },
          "execution_count": 108
        }
      ]
    },
    {
      "cell_type": "code",
      "metadata": {
        "id": "WXbINiEntJkJ",
        "colab_type": "code",
        "colab": {
          "base_uri": "https://localhost:8080/",
          "height": 282
        },
        "outputId": "4bcdcd4f-f84a-4972-978f-376bcfdc2df7"
      },
      "source": [
        "show(img_may)"
      ],
      "execution_count": 109,
      "outputs": [
        {
          "output_type": "display_data",
          "data": {
            "image/png": "[encoded data removed]",
            "text/plain": [
              "<Figure size 432x288 with 1 Axes>"
            ]
          },
          "metadata": {
            "tags": [],
            "needs_background": "light"
          }
        },
        {
          "output_type": "execute_result",
          "data": {
            "text/plain": [
              "<matplotlib.axes._subplots.AxesSubplot at 0x7fd1c2250be0>"
            ]
          },
          "metadata": {
            "tags": []
          },
          "execution_count": 109
        }
      ]
    },
    {
      "cell_type": "code",
      "metadata": {
        "id": "x1BTbcTrOYHI",
        "colab_type": "code",
        "colab": {
          "base_uri": "https://localhost:8080/",
          "height": 298
        },
        "outputId": "1d47d3f4-6a51-4e5c-9819-7a088b097e5f"
      },
      "source": [
        "plt.imshow(img_aug.read(1),cmap='jet')\n",
        "plt.title('26.8.20')"
      ],
      "execution_count": 128,
      "outputs": [
        {
          "output_type": "execute_result",
          "data": {
            "text/plain": [
              "Text(0.5, 1.0, '26.8.20')"
            ]
          },
          "metadata": {
            "tags": []
          },
          "execution_count": 128
        },
        {
          "output_type": "display_data",
          "data": {
            "image/png": "[encoded data removed]",
            "text/plain": [
              "<Figure size 432x288 with 1 Axes>"
            ]
          },
          "metadata": {
            "tags": [],
            "needs_background": "light"
          }
        }
      ]
    },
    {
      "cell_type": "code",
      "metadata": {
        "id": "J5VF9W9my6oI",
        "colab_type": "code",
        "colab": {
          "base_uri": "https://localhost:8080/",
          "height": 298
        },
        "outputId": "1effcca5-56e9-4334-a550-658c6e07d136"
      },
      "source": [
        "pyplot.imshow(img_may.read(1),cmap='jet')\n",
        "plt.title('24.5.20')"
      ],
      "execution_count": 129,
      "outputs": [
        {
          "output_type": "execute_result",
          "data": {
            "text/plain": [
              "Text(0.5, 1.0, '24.5.20')"
            ]
          },
          "metadata": {
            "tags": []
          },
          "execution_count": 129
        },
        {
          "output_type": "display_data",
          "data": {
            "image/png": "[encoded data removed]",
            "text/plain": [
              "<Figure size 432x288 with 1 Axes>"
            ]
          },
          "metadata": {
            "tags": [],
            "needs_background": "light"
          }
        }
      ]
    },
    {
      "cell_type": "code",
      "metadata": {
        "id": "bV1tk5POsjxd",
        "colab_type": "code",
        "colab": {}
      },
      "source": [
        "pyplot.imshow(img_may.read(1),cmap='jet')"
      ],
      "execution_count": null,
      "outputs": []
    },
    {
      "cell_type": "code",
      "metadata": {
        "id": "ZuznS39t9HKR",
        "colab_type": "code",
        "colab": {}
      },
      "source": [
        "img1=img.read()"
      ],
      "execution_count": 90,
      "outputs": []
    },
    {
      "cell_type": "code",
      "metadata": {
        "id": "YNKwFW2s_Ie7",
        "colab_type": "code",
        "colab": {
          "base_uri": "https://localhost:8080/",
          "height": 34
        },
        "outputId": "53cd59e0-0f1f-4f4f-f72c-cd5bc44d7fb3"
      },
      "source": [
        "img1.shape"
      ],
      "execution_count": 91,
      "outputs": [
        {
          "output_type": "execute_result",
          "data": {
            "text/plain": [
              "(1, 256, 272)"
            ]
          },
          "metadata": {
            "tags": []
          },
          "execution_count": 91
        }
      ]
    },
    {
      "cell_type": "code",
      "metadata": {
        "id": "fx1pKc2D99jW",
        "colab_type": "code",
        "colab": {
          "base_uri": "https://localhost:8080/",
          "height": 136
        },
        "outputId": "061aaefb-a81f-4af7-8c0a-33c5bc7ee81f"
      },
      "source": [
        "print(img1)"
      ],
      "execution_count": 92,
      "outputs": [
        {
          "output_type": "stream",
          "text": [
            "[[[nan nan nan ... nan nan nan]\n",
            "  [nan nan nan ... nan nan nan]\n",
            "  [nan nan nan ... nan nan nan]\n",
            "  ...\n",
            "  [nan nan nan ... nan nan nan]\n",
            "  [nan nan nan ... nan nan nan]\n",
            "  [nan nan nan ... nan nan nan]]]\n"
          ],
          "name": "stdout"
        }
      ]
    },
    {
      "cell_type": "code",
      "metadata": {
        "id": "ypRbJuH5_kp5",
        "colab_type": "code",
        "colab": {}
      },
      "source": [
        "img2=np.nan_to_num(img1)"
      ],
      "execution_count": 93,
      "outputs": []
    },
    {
      "cell_type": "code",
      "metadata": {
        "id": "CXMVevDABFlX",
        "colab_type": "code",
        "colab": {
          "base_uri": "https://localhost:8080/",
          "height": 136
        },
        "outputId": "60cdd173-bdbd-4861-95a5-05000f6d7576"
      },
      "source": [
        "print(img2)"
      ],
      "execution_count": 94,
      "outputs": [
        {
          "output_type": "stream",
          "text": [
            "[[[0. 0. 0. ... 0. 0. 0.]\n",
            "  [0. 0. 0. ... 0. 0. 0.]\n",
            "  [0. 0. 0. ... 0. 0. 0.]\n",
            "  ...\n",
            "  [0. 0. 0. ... 0. 0. 0.]\n",
            "  [0. 0. 0. ... 0. 0. 0.]\n",
            "  [0. 0. 0. ... 0. 0. 0.]]]\n"
          ],
          "name": "stdout"
        }
      ]
    },
    {
      "cell_type": "code",
      "metadata": {
        "id": "d_062KTdBPSg",
        "colab_type": "code",
        "colab": {}
      },
      "source": [
        "img3=img2[img2 !=0]"
      ],
      "execution_count": 95,
      "outputs": []
    },
    {
      "cell_type": "code",
      "metadata": {
        "id": "SozXzsiwBsYJ",
        "colab_type": "code",
        "colab": {
          "base_uri": "https://localhost:8080/",
          "height": 34
        },
        "outputId": "d5ff502b-eeee-449e-b2f2-2ffec6da1b1d"
      },
      "source": [
        "print(img3)"
      ],
      "execution_count": 96,
      "outputs": [
        {
          "output_type": "stream",
          "text": [
            "[0.2473222  0.23659892 0.24588744 ... 0.21639863 0.2771056  0.25404003]\n"
          ],
          "name": "stdout"
        }
      ]
    },
    {
      "cell_type": "code",
      "metadata": {
        "id": "GNoow1alrkC1",
        "colab_type": "code",
        "colab": {
          "base_uri": "https://localhost:8080/",
          "height": 34
        },
        "outputId": "886283d9-8e1d-4559-c7f1-bab3b64c4998"
      },
      "source": [
        "np.min(img3)"
      ],
      "execution_count": 101,
      "outputs": [
        {
          "output_type": "execute_result",
          "data": {
            "text/plain": [
              "0.058042396"
            ]
          },
          "metadata": {
            "tags": []
          },
          "execution_count": 101
        }
      ]
    },
    {
      "cell_type": "code",
      "metadata": {
        "id": "7kS6bkogKcvB",
        "colab_type": "code",
        "colab": {
          "base_uri": "https://localhost:8080/",
          "height": 34
        },
        "outputId": "9ec5b970-6dc3-48e4-fadf-fd18e5edaa95"
      },
      "source": [
        "np.max(img3)"
      ],
      "execution_count": 99,
      "outputs": [
        {
          "output_type": "execute_result",
          "data": {
            "text/plain": [
              "0.50467044"
            ]
          },
          "metadata": {
            "tags": []
          },
          "execution_count": 99
        }
      ]
    },
    {
      "cell_type": "code",
      "metadata": {
        "id": "3NRq7d-rCi9l",
        "colab_type": "code",
        "colab": {
          "base_uri": "https://localhost:8080/",
          "height": 34
        },
        "outputId": "aec8a8ba-63f9-4721-8581-6165e28ae3b2"
      },
      "source": [
        "len(img3)"
      ],
      "execution_count": 98,
      "outputs": [
        {
          "output_type": "execute_result",
          "data": {
            "text/plain": [
              "16067"
            ]
          },
          "metadata": {
            "tags": []
          },
          "execution_count": 98
        }
      ]
    },
    {
      "cell_type": "code",
      "metadata": {
        "id": "Q20RPWF9CXPm",
        "colab_type": "code",
        "colab": {
          "base_uri": "https://localhost:8080/",
          "height": 34
        },
        "outputId": "2d78a3d5-8088-41c5-963f-278baeb49758"
      },
      "source": [
        "s=sum(img3)/len(img3)\n",
        "print(s)"
      ],
      "execution_count": 102,
      "outputs": [
        {
          "output_type": "stream",
          "text": [
            "0.2029596513893432\n"
          ],
          "name": "stdout"
        }
      ]
    },
    {
      "cell_type": "code",
      "metadata": {
        "id": "QewVWA2X3iRl",
        "colab_type": "code",
        "colab": {}
      },
      "source": [
        "plot=gpd.read_file('plot.geojson')"
      ],
      "execution_count": 133,
      "outputs": []
    },
    {
      "cell_type": "code",
      "metadata": {
        "id": "K65-Ph9A4JSw",
        "colab_type": "code",
        "colab": {
          "base_uri": "https://localhost:8080/",
          "height": 34
        },
        "outputId": "a43e6723-ad36-4850-f4d3-e2bca7ffdad9"
      },
      "source": [
        "crs=img.crs\n",
        "print(crs)"
      ],
      "execution_count": 135,
      "outputs": [
        {
          "output_type": "stream",
          "text": [
            "EPSG:4326\n"
          ],
          "name": "stdout"
        }
      ]
    },
    {
      "cell_type": "code",
      "metadata": {
        "id": "ywI4_2mf4cWE",
        "colab_type": "code",
        "colab": {
          "base_uri": "https://localhost:8080/",
          "height": 71
        },
        "outputId": "7d664c2a-bdb1-4c25-acbf-5f02dad7f004"
      },
      "source": [
        "plot1=plot.to_crs({'init': crs})"
      ],
      "execution_count": 136,
      "outputs": [
        {
          "output_type": "stream",
          "text": [
            "/usr/local/lib/python3.6/dist-packages/pyproj/crs/crs.py:53: FutureWarning: '+init=<authority>:<code>' syntax is deprecated. '<authority>:<code>' is the preferred initialization method. When making the change, be mindful of axis order changes: https://pyproj4.github.io/pyproj/stable/gotchas.html#axis-order-changes-in-proj-6\n",
            "  return _prepare_from_string(\" \".join(pjargs))\n"
          ],
          "name": "stderr"
        }
      ]
    },
    {
      "cell_type": "code",
      "metadata": {
        "id": "5-18qkPC_OHN",
        "colab_type": "code",
        "colab": {
          "base_uri": "https://localhost:8080/",
          "height": 51
        },
        "outputId": "cc9ed285-e60c-4da5-e460-a280221a436f"
      },
      "source": [
        "geo=polygon.geometry\n",
        "print(geo)"
      ],
      "execution_count": 145,
      "outputs": [
        {
          "output_type": "stream",
          "text": [
            "0    POLYGON ((78.00000 21.00000, 78.00000 22.00000...\n",
            "Name: geometry, dtype: geometry\n"
          ],
          "name": "stdout"
        }
      ]
    },
    {
      "cell_type": "code",
      "metadata": {
        "id": "rI3cxwJ5HrId",
        "colab_type": "code",
        "colab": {}
      },
      "source": [
        "from shapely.geometry import Polygon\n",
        "\n",
        "lat_point_list = [21, 22, 22,21]\n",
        "lon_point_list = [78,78,80,80]\n",
        "polygon_geom = Polygon(zip(lon_point_list, lat_point_list))\n",
        "crs = {'init': 'epsg:4326'}\n",
        "polygon = gpd.GeoDataFrame(index=[0], crs=crs, geometry=[polygon_geom])       \n",
        "print(polygon.geometry)"
      ],
      "execution_count": null,
      "outputs": []
    },
    {
      "cell_type": "code",
      "metadata": {
        "id": "hmFKZdnY5kTO",
        "colab_type": "code",
        "colab": {}
      },
      "source": [
        "from rasterio import mask"
      ],
      "execution_count": 139,
      "outputs": []
    },
    {
      "cell_type": "code",
      "metadata": {
        "id": "4s8-N4Ho49xa",
        "colab_type": "code",
        "colab": {}
      },
      "source": [
        "with rio.open(\"/content/SM_SMAP_I_20200824_20200826.tif\") as src:\n",
        "    out_image, out_transform = rio.mask.mask(src,geo,crop=True)\n",
        "    out_meta = src.meta.copy()\n",
        "    out_meta.update({\"driver\": \"GTiff\",\n",
        "                 \"height\": out_image.shape[1],\n",
        "                 \"width\": out_image.shape[2],\n",
        "                 \"transform\": out_transform})"
      ],
      "execution_count": 146,
      "outputs": []
    },
    {
      "cell_type": "code",
      "metadata": {
        "id": "aVBa3QPv5-IS",
        "colab_type": "code",
        "colab": {
          "base_uri": "https://localhost:8080/",
          "height": 425
        },
        "outputId": "f5ec989b-4e79-4321-abe6-d025c6e66494"
      },
      "source": [
        "print(out_image)"
      ],
      "execution_count": 147,
      "outputs": [
        {
          "output_type": "stream",
          "text": [
            "[[[0.44012427 0.4437288  0.4469288  0.4199754  0.40542182 0.39115036\n",
            "   0.40432224 0.40662274 0.40991333 0.4072769  0.4108048  0.41917962\n",
            "   0.4422125  0.47014177 0.49072772 0.50265145]\n",
            "  [0.44166222 0.44689083 0.44865337 0.40869004 0.37814707 0.3613975\n",
            "   0.37243858 0.37721565 0.37361795 0.37487546 0.39058867 0.40919015\n",
            "   0.44237489 0.4718246  0.49453405 0.50839376]\n",
            "  [0.43713441 0.44068387 0.44284552 0.40464252 0.37449288 0.3581566\n",
            "   0.35666648 0.3519334  0.34197196 0.36818516 0.40612894 0.43962675\n",
            "   0.46558532 0.48572105 0.50233746 0.5147296 ]\n",
            "  [0.4332832  0.436833   0.43979925 0.41468072 0.38928047 0.38661814\n",
            "   0.38736564 0.38828504 0.38017532 0.4093309  0.4508551  0.47992572\n",
            "   0.49816263 0.50635767 0.51418346 0.5166433 ]\n",
            "  [0.43063125 0.43319476 0.43644038 0.4202719  0.39694926 0.3980738\n",
            "   0.4055766  0.41920185 0.42079696 0.44968194 0.48114634 0.49989644\n",
            "   0.5058135  0.51134163 0.51112175 0.50635433]\n",
            "  [0.42333817 0.4108414  0.39879164 0.39174688 0.37400833 0.39022133\n",
            "   0.41221786 0.44739535 0.45823145 0.4743409  0.49374557 0.50387573\n",
            "   0.50438476 0.5019014  0.49202773 0.48847502]\n",
            "  [0.42292583 0.39676115 0.36889344 0.35218963 0.34600997 0.37764388\n",
            "   0.41283137 0.453588   0.46426597 0.4792943  0.49394867 0.49607015\n",
            "   0.4882177  0.47524485 0.46835694 0.47436997]\n",
            "  [0.42147744 0.3956918  0.36673945 0.3470181  0.33979085 0.36289155\n",
            "   0.40110734 0.44322506 0.46338457 0.47764558 0.49181804 0.4943714\n",
            "   0.48670447 0.47132388 0.46825066 0.4777857 ]]]\n"
          ],
          "name": "stdout"
        }
      ]
    }
  ]
}