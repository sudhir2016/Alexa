{
  "nbformat": 4,
  "nbformat_minor": 0,
  "metadata": {
    "colab": {
      "name": "Area.ipynb",
      "provenance": [],
      "authorship_tag": "ABX9TyNSNU5rdckwMkueptDZT+j7",
      "include_colab_link": true
    },
    "kernelspec": {
      "name": "python3",
      "display_name": "Python 3"
    }
  },
  "cells": [
    {
      "cell_type": "markdown",
      "metadata": {
        "id": "view-in-github",
        "colab_type": "text"
      },
      "source": [
        "<a href=\"https://colab.research.google.com/github/sudhir2016/Alexa/blob/master/Area.ipynb\" target=\"_parent\"><img src=\"https://colab.research.google.com/assets/colab-badge.svg\" alt=\"Open In Colab\"/></a>"
      ]
    },
    {
      "cell_type": "code",
      "metadata": {
        "id": "lH4_RIMhvJsF",
        "colab_type": "code",
        "colab": {}
      },
      "source": [
        "import math"
      ],
      "execution_count": 1,
      "outputs": []
    },
    {
      "cell_type": "code",
      "metadata": {
        "id": "FE0Lh-Umvtbw",
        "colab_type": "code",
        "colab": {}
      },
      "source": [
        "R=6378.137"
      ],
      "execution_count": 2,
      "outputs": []
    },
    {
      "cell_type": "code",
      "metadata": {
        "id": "CxGoPsyOylTU",
        "colab_type": "code",
        "colab": {}
      },
      "source": [
        "x=[-102.05,-102.05,-109.05,-109.05]"
      ],
      "execution_count": 3,
      "outputs": []
    },
    {
      "cell_type": "code",
      "metadata": {
        "id": "y7ym7vz-yxfl",
        "colab_type": "code",
        "colab": {}
      },
      "source": [
        "y=[41.0,37.0,37.0,41.0]"
      ],
      "execution_count": 4,
      "outputs": []
    },
    {
      "cell_type": "code",
      "metadata": {
        "id": "rd3m2Kzi9XVS",
        "colab_type": "code",
        "colab": {}
      },
      "source": [
        "for i in range(0, len(x)-1):\n",
        "  x[i] =math.radians(x[i])\n",
        "  y[i] =math.radians(y[i])"
      ],
      "execution_count": 5,
      "outputs": []
    },
    {
      "cell_type": "code",
      "metadata": {
        "id": "U3FP5QIIFjFA",
        "colab_type": "code",
        "colab": {}
      },
      "source": [
        "a=[0,0,0,0]\n",
        "b=[0,0,0,0]"
      ],
      "execution_count": 6,
      "outputs": []
    },
    {
      "cell_type": "code",
      "metadata": {
        "id": "diYemoDxFSHp",
        "colab_type": "code",
        "colab": {}
      },
      "source": [
        "for i in range(0, len(x)-1):\n",
        "  a[i] =R*math.cos(x[i])*math.cos(y[i])\n",
        "  b[i] =R*math.cos(x[i])*math.sin(y[i])"
      ],
      "execution_count": 7,
      "outputs": []
    },
    {
      "cell_type": "code",
      "metadata": {
        "id": "-UuiMBtfw-JI",
        "colab_type": "code",
        "colab": {}
      },
      "source": [
        "#x[0]=R*math.cos(a)*math.cos(c)"
      ],
      "execution_count": 8,
      "outputs": []
    },
    {
      "cell_type": "code",
      "metadata": {
        "id": "wKzuMTjBzLKR",
        "colab_type": "code",
        "colab": {}
      },
      "source": [
        "#y[0]=R*math.cos(a)*math.sin(c)"
      ],
      "execution_count": 9,
      "outputs": []
    },
    {
      "cell_type": "code",
      "metadata": {
        "id": "l9-OaSlKxxAQ",
        "colab_type": "code",
        "colab": {}
      },
      "source": [
        "#x[1]=R*math.cos(a)*math.cos(d)"
      ],
      "execution_count": 10,
      "outputs": []
    },
    {
      "cell_type": "code",
      "metadata": {
        "id": "x6mLK95e1EHy",
        "colab_type": "code",
        "colab": {}
      },
      "source": [
        "#y[1]=R*math.cos(a)*math.sin(d)"
      ],
      "execution_count": 11,
      "outputs": []
    },
    {
      "cell_type": "code",
      "metadata": {
        "id": "a5EsKb7P1Lkw",
        "colab_type": "code",
        "colab": {}
      },
      "source": [
        "#x[2]=R*math.cos(b)*math.cos(d)"
      ],
      "execution_count": 12,
      "outputs": []
    },
    {
      "cell_type": "code",
      "metadata": {
        "id": "xWQvNibp1QX3",
        "colab_type": "code",
        "colab": {}
      },
      "source": [
        "#y[2]=R*math.cos(b)*math.sin(d)"
      ],
      "execution_count": 13,
      "outputs": []
    },
    {
      "cell_type": "code",
      "metadata": {
        "id": "wq2XVWaG1Tkw",
        "colab_type": "code",
        "colab": {}
      },
      "source": [
        "#x[3]=R*math.cos(b)*math.cos(c)"
      ],
      "execution_count": 14,
      "outputs": []
    },
    {
      "cell_type": "code",
      "metadata": {
        "id": "SDCTrhYm1a8w",
        "colab_type": "code",
        "colab": {}
      },
      "source": [
        "#y[3]=R*math.cos(b)*math.sin(c)"
      ],
      "execution_count": 15,
      "outputs": []
    },
    {
      "cell_type": "code",
      "metadata": {
        "id": "sxLHPLaF2Ebf",
        "colab_type": "code",
        "colab": {}
      },
      "source": [
        "#area = 0.0\n",
        "#for i in range(0, len(x)-1):\n",
        "        #area = area+(x[i] * y[i+1] - x[i+1]*y[i])"
      ],
      "execution_count": 16,
      "outputs": []
    },
    {
      "cell_type": "code",
      "metadata": {
        "id": "orI1A-KOAQ4J",
        "colab_type": "code",
        "colab": {}
      },
      "source": [
        "area=0\n",
        "for i in range(-1, len(x)-1):\n",
        "        area += a[i] * (b[i+1] - b[i-1])"
      ],
      "execution_count": 17,
      "outputs": []
    },
    {
      "cell_type": "code",
      "metadata": {
        "id": "4TdtjTWs3MH1",
        "colab_type": "code",
        "colab": {}
      },
      "source": [
        "area=area/2"
      ],
      "execution_count": 18,
      "outputs": []
    },
    {
      "cell_type": "code",
      "metadata": {
        "id": "vhQmOK-f3OTS",
        "colab_type": "code",
        "colab": {
          "base_uri": "https://localhost:8080/",
          "height": 34
        },
        "outputId": "d18ebb81-5c56-4b03-acf4-78a7512dafa7"
      },
      "source": [
        "print(area)"
      ],
      "execution_count": 19,
      "outputs": [
        {
          "output_type": "stream",
          "text": [
            "-61838.42902294942\n"
          ],
          "name": "stdout"
        }
      ]
    },
    {
      "cell_type": "code",
      "metadata": {
        "id": "bhnbsLF88jWZ",
        "colab_type": "code",
        "colab": {}
      },
      "source": [
        "z=math.cos(math.radians(180))"
      ],
      "execution_count": 20,
      "outputs": []
    },
    {
      "cell_type": "code",
      "metadata": {
        "id": "vjpNZyED9FJw",
        "colab_type": "code",
        "colab": {
          "base_uri": "https://localhost:8080/",
          "height": 34
        },
        "outputId": "30944c26-75d8-4edc-cbd1-700786b81c45"
      },
      "source": [
        "print(z)"
      ],
      "execution_count": 21,
      "outputs": [
        {
          "output_type": "stream",
          "text": [
            "-1.0\n"
          ],
          "name": "stdout"
        }
      ]
    }
  ]
}