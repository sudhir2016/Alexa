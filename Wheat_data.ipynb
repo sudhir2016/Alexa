{
  "nbformat": 4,
  "nbformat_minor": 0,
  "metadata": {
    "colab": {
      "name": "Wheat_data.ipynb",
      "provenance": [],
      "authorship_tag": "ABX9TyOgFqyBozRA+YHA5YOuG3MC",
      "include_colab_link": true
    },
    "kernelspec": {
      "name": "python3",
      "display_name": "Python 3"
    }
  },
  "cells": [
    {
      "cell_type": "markdown",
      "metadata": {
        "id": "view-in-github",
        "colab_type": "text"
      },
      "source": [
        "<a href=\"https://colab.research.google.com/github/sudhir2016/Alexa/blob/master/Wheat_data.ipynb\" target=\"_parent\"><img src=\"https://colab.research.google.com/assets/colab-badge.svg\" alt=\"Open In Colab\"/></a>"
      ]
    },
    {
      "cell_type": "code",
      "metadata": {
        "id": "08ATK1f8P0yB",
        "colab_type": "code",
        "colab": {}
      },
      "source": [
        "import pandas as pd\n",
        "import os\n",
        "import numpy as np"
      ],
      "execution_count": 1,
      "outputs": []
    },
    {
      "cell_type": "code",
      "metadata": {
        "id": "9YWtzV1SQCVj",
        "colab_type": "code",
        "colab": {
          "base_uri": "https://localhost:8080/",
          "height": 51
        },
        "outputId": "3b23e7ea-4db8-4619-d68c-1d476eb79a34"
      },
      "source": [
        "!unzip train.csv.zip"
      ],
      "execution_count": 2,
      "outputs": [
        {
          "output_type": "stream",
          "text": [
            "Archive:  train.csv.zip\n",
            "  inflating: train.csv               \n"
          ],
          "name": "stdout"
        }
      ]
    },
    {
      "cell_type": "code",
      "metadata": {
        "id": "M97dz7ZRRF7s",
        "colab_type": "code",
        "colab": {}
      },
      "source": [
        "train=pd.read_csv(\"train.csv\")"
      ],
      "execution_count": 3,
      "outputs": []
    },
    {
      "cell_type": "code",
      "metadata": {
        "id": "Tu2wvGBST28T",
        "colab_type": "code",
        "colab": {}
      },
      "source": [
        "def convert_to_yolo(bbox, c=1024.0):\n",
        "  bbox=np.fromstring(bbox[1:-1],sep=',')\n",
        "  x=(bbox[0]+bbox[2]/2.0)/c\n",
        "  y=(bbox[1]+bbox[3]/2.0)/c\n",
        "  w= bbox[2]/c\n",
        "  h=bbox[3]/c\n",
        "  yolo_box=[x,y,w,h]\n",
        "  return(yolo_box)\n"
      ],
      "execution_count": 4,
      "outputs": []
    },
    {
      "cell_type": "code",
      "metadata": {
        "id": "h4GQ59QPXGOC",
        "colab_type": "code",
        "colab": {}
      },
      "source": [
        "train['yolo_box'] = train.bbox.apply(convert_to_yolo)"
      ],
      "execution_count": 5,
      "outputs": []
    },
    {
      "cell_type": "code",
      "metadata": {
        "id": "mUsnYztJgch0",
        "colab_type": "code",
        "colab": {}
      },
      "source": [
        "#print(train)"
      ],
      "execution_count": null,
      "outputs": []
    },
    {
      "cell_type": "code",
      "metadata": {
        "id": "rlznSk0Sa3Bh",
        "colab_type": "code",
        "colab": {}
      },
      "source": [
        "unique=train.image_id.unique()"
      ],
      "execution_count": 6,
      "outputs": []
    },
    {
      "cell_type": "code",
      "metadata": {
        "id": "h3DY5qVobNn3",
        "colab_type": "code",
        "colab": {}
      },
      "source": [
        "#len(unique)"
      ],
      "execution_count": null,
      "outputs": []
    },
    {
      "cell_type": "code",
      "metadata": {
        "id": "dTlKD74SEccj",
        "colab_type": "code",
        "colab": {}
      },
      "source": [
        "#print(unique)"
      ],
      "execution_count": null,
      "outputs": []
    },
    {
      "cell_type": "code",
      "metadata": {
        "id": "00Q_mKq0cGQf",
        "colab_type": "code",
        "colab": {}
      },
      "source": [
        "x=unique[1]"
      ],
      "execution_count": null,
      "outputs": []
    },
    {
      "cell_type": "code",
      "metadata": {
        "id": "MjESitoFFk4G",
        "colab_type": "code",
        "colab": {}
      },
      "source": [
        "#print(x)"
      ],
      "execution_count": null,
      "outputs": []
    },
    {
      "cell_type": "code",
      "metadata": {
        "id": "rSKj-vBUEEJI",
        "colab_type": "code",
        "colab": {}
      },
      "source": [
        "for i in unique:\n",
        "  file= \"%s.txt\" %i\n",
        "  a='/content/yolo'\n",
        "  b=file\n",
        "  path=os.path.join(a,b)\n",
        "  os.mknod(path)\n",
        "  file_data= train.query('image_id == \"%s\"' %i)\n",
        "  boxes = file_data.yolo_box.values\n",
        "  #with open(file, 'a') as file:\n",
        "  for j in boxes:\n",
        "      s = \"0 %s %s %s %s \\n\"\n",
        "      new_line = (s % tuple(j))\n",
        "      file.write(new_line)\n"
      ],
      "execution_count": 8,
      "outputs": []
    },
    {
      "cell_type": "code",
      "metadata": {
        "id": "oHytY0KZabdr",
        "colab_type": "code",
        "colab": {}
      },
      "source": [
        "f=open('yolo/b53afdf5c.txt')"
      ],
      "execution_count": null,
      "outputs": []
    },
    {
      "cell_type": "code",
      "metadata": {
        "id": "y0kGx2EqadM7",
        "colab_type": "code",
        "colab": {}
      },
      "source": [
        "print(f.read())"
      ],
      "execution_count": null,
      "outputs": []
    },
    {
      "cell_type": "code",
      "metadata": {
        "id": "h1m5eqBuvodA",
        "colab_type": "code",
        "colab": {}
      },
      "source": [
        "#file_data= train.query('image_id == \"%s\"' %i)"
      ],
      "execution_count": null,
      "outputs": []
    },
    {
      "cell_type": "code",
      "metadata": {
        "id": "CQcgVTtvikGg",
        "colab_type": "code",
        "colab": {}
      },
      "source": [
        "#boxes = file_data.yolo_box.values"
      ],
      "execution_count": null,
      "outputs": []
    },
    {
      "cell_type": "code",
      "metadata": {
        "id": "R2SLS2yX0ps4",
        "colab_type": "code",
        "colab": {}
      },
      "source": [
        "#print(all_boxes)"
      ],
      "execution_count": null,
      "outputs": []
    },
    {
      "cell_type": "code",
      "metadata": {
        "id": "8AndwPBNk9Xh",
        "colab_type": "code",
        "colab": {}
      },
      "source": [
        "#len(all_boxes)"
      ],
      "execution_count": null,
      "outputs": []
    },
    {
      "cell_type": "code",
      "metadata": {
        "id": "IW28VCUFeXjK",
        "colab_type": "code",
        "colab": {}
      },
      "source": [
        "#file= \"%s.txt\" %x"
      ],
      "execution_count": null,
      "outputs": []
    },
    {
      "cell_type": "code",
      "metadata": {
        "id": "ZEiYZ8Yb3TPW",
        "colab_type": "code",
        "colab": {}
      },
      "source": [
        "#print(file)"
      ],
      "execution_count": null,
      "outputs": []
    },
    {
      "cell_type": "code",
      "metadata": {
        "id": "afG_eAbnIFiJ",
        "colab_type": "code",
        "colab": {}
      },
      "source": [
        "#a='/content/yolo'\n",
        "b=file"
      ],
      "execution_count": null,
      "outputs": []
    },
    {
      "cell_type": "code",
      "metadata": {
        "id": "0TIXPwDsIYEM",
        "colab_type": "code",
        "colab": {}
      },
      "source": [
        "#path=os.path.join(a,b#)"
      ],
      "execution_count": null,
      "outputs": []
    },
    {
      "cell_type": "code",
      "metadata": {
        "id": "3RwReyEtcepX",
        "colab_type": "code",
        "colab": {}
      },
      "source": [
        "#os.mknod(path)"
      ],
      "execution_count": null,
      "outputs": []
    },
    {
      "cell_type": "code",
      "metadata": {
        "id": "SMA6rVWW4neJ",
        "colab_type": "code",
        "colab": {}
      },
      "source": [
        "#os.mknod(file)"
      ],
      "execution_count": null,
      "outputs": []
    },
    {
      "cell_type": "code",
      "metadata": {
        "id": "rhU6cHtljT3N",
        "colab_type": "code",
        "colab": {}
      },
      "source": [
        " #with open(file, 'a') as file:\n",
        "        for j in boxes:\n",
        "            s = \"0 %s %s %s %s \\n\"\n",
        "            new_line = (s % tuple(j))\n",
        "            file.write(new_line)"
      ],
      "execution_count": null,
      "outputs": []
    }
  ]
}