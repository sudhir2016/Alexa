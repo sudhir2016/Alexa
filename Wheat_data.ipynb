{
  "nbformat": 4,
  "nbformat_minor": 0,
  "metadata": {
    "colab": {
      "name": "Wheat_data.ipynb",
      "provenance": [],
      "authorship_tag": "ABX9TyMCjm6V606uMtX8LBJH85od",
      "include_colab_link": true
    },
    "kernelspec": {
      "name": "python3",
      "display_name": "Python 3"
    }
  },
  "cells": [
    {
      "cell_type": "markdown",
      "metadata": {
        "id": "view-in-github",
        "colab_type": "text"
      },
      "source": [
        "<a href=\"https://colab.research.google.com/github/sudhir2016/Alexa/blob/master/Wheat_data.ipynb\" target=\"_parent\"><img src=\"https://colab.research.google.com/assets/colab-badge.svg\" alt=\"Open In Colab\"/></a>"
      ]
    },
    {
      "cell_type": "code",
      "metadata": {
        "id": "08ATK1f8P0yB",
        "colab_type": "code",
        "colab": {}
      },
      "source": [
        "import pandas as pd\n",
        "import os\n",
        "import numpy as np"
      ],
      "execution_count": 1,
      "outputs": []
    },
    {
      "cell_type": "code",
      "metadata": {
        "id": "9YWtzV1SQCVj",
        "colab_type": "code",
        "colab": {}
      },
      "source": [
        "!unzip train.csv.zip"
      ],
      "execution_count": null,
      "outputs": []
    },
    {
      "cell_type": "code",
      "metadata": {
        "id": "M97dz7ZRRF7s",
        "colab_type": "code",
        "colab": {}
      },
      "source": [
        "train=pd.read_csv(\"train.csv\")"
      ],
      "execution_count": 2,
      "outputs": []
    },
    {
      "cell_type": "code",
      "metadata": {
        "id": "Tu2wvGBST28T",
        "colab_type": "code",
        "colab": {}
      },
      "source": [
        "def convert_to_yolo(bbox, c=1024.0):\n",
        "  bbox=np.fromstring(bbox[1:-1],sep=',')\n",
        "  x=(bbox[0]+bbox[2]/2.0)/c\n",
        "  y=(bbox[1]+bbox[3]/2.0)/c\n",
        "  w= bbox[2]/c\n",
        "  h=bbox[3]/c\n",
        "  yolo_box=[x,y,w,h]\n",
        "  return(yolo_box)\n"
      ],
      "execution_count": 3,
      "outputs": []
    },
    {
      "cell_type": "code",
      "metadata": {
        "id": "h4GQ59QPXGOC",
        "colab_type": "code",
        "colab": {}
      },
      "source": [
        "train['yolo_box'] = train.bbox.apply(convert_to_yolo)"
      ],
      "execution_count": 4,
      "outputs": []
    },
    {
      "cell_type": "code",
      "metadata": {
        "id": "mUsnYztJgch0",
        "colab_type": "code",
        "colab": {}
      },
      "source": [
        "print(train)"
      ],
      "execution_count": null,
      "outputs": []
    },
    {
      "cell_type": "code",
      "metadata": {
        "id": "rlznSk0Sa3Bh",
        "colab_type": "code",
        "colab": {}
      },
      "source": [
        "unique=train.image_id.unique()"
      ],
      "execution_count": 8,
      "outputs": []
    },
    {
      "cell_type": "code",
      "metadata": {
        "id": "h3DY5qVobNn3",
        "colab_type": "code",
        "colab": {
          "base_uri": "https://localhost:8080/",
          "height": 34
        },
        "outputId": "10ce0dce-09ec-4680-d0da-0cd43439760f"
      },
      "source": [
        "len(unique)"
      ],
      "execution_count": 9,
      "outputs": [
        {
          "output_type": "execute_result",
          "data": {
            "text/plain": [
              "3373"
            ]
          },
          "metadata": {
            "tags": []
          },
          "execution_count": 9
        }
      ]
    },
    {
      "cell_type": "code",
      "metadata": {
        "id": "dTlKD74SEccj",
        "colab_type": "code",
        "colab": {}
      },
      "source": [
        "print(unique)"
      ],
      "execution_count": null,
      "outputs": []
    },
    {
      "cell_type": "code",
      "metadata": {
        "id": "VAhT-3QoYaV_",
        "colab_type": "code",
        "colab": {}
      },
      "source": [
        "f=open('b53afdf5c.txt')"
      ],
      "execution_count": 41,
      "outputs": []
    },
    {
      "cell_type": "code",
      "metadata": {
        "id": "EMsT0Fa5ZPt9",
        "colab_type": "code",
        "colab": {}
      },
      "source": [
        "print(f.read())"
      ],
      "execution_count": null,
      "outputs": []
    },
    {
      "cell_type": "code",
      "metadata": {
        "id": "00Q_mKq0cGQf",
        "colab_type": "code",
        "colab": {}
      },
      "source": [
        "x=unique[1]"
      ],
      "execution_count": 11,
      "outputs": []
    },
    {
      "cell_type": "code",
      "metadata": {
        "id": "MjESitoFFk4G",
        "colab_type": "code",
        "colab": {
          "base_uri": "https://localhost:8080/",
          "height": 34
        },
        "outputId": "35e151dd-7b25-49fd-8d8e-0b492bf0f6d2"
      },
      "source": [
        "print(x)"
      ],
      "execution_count": 12,
      "outputs": [
        {
          "output_type": "stream",
          "text": [
            "b53afdf5c\n"
          ],
          "name": "stdout"
        }
      ]
    },
    {
      "cell_type": "code",
      "metadata": {
        "id": "rSKj-vBUEEJI",
        "colab_type": "code",
        "colab": {}
      },
      "source": [
        "for i in unique:\n",
        "  file= \"%s.txt\" %i\n",
        "  a='/content/yolo'\n",
        "  b=file\n",
        "  path=os.path.join(a,b)\n",
        "  os.mknod(path)"
      ],
      "execution_count": 214,
      "outputs": []
    },
    {
      "cell_type": "code",
      "metadata": {
        "id": "h1m5eqBuvodA",
        "colab_type": "code",
        "colab": {}
      },
      "source": [
        "z= train.query('image_id == \"%s\"' %x)"
      ],
      "execution_count": 13,
      "outputs": []
    },
    {
      "cell_type": "code",
      "metadata": {
        "id": "CQcgVTtvikGg",
        "colab_type": "code",
        "colab": {}
      },
      "source": [
        "all_boxes = z.yolo_box.values"
      ],
      "execution_count": 31,
      "outputs": []
    },
    {
      "cell_type": "code",
      "metadata": {
        "id": "R2SLS2yX0ps4",
        "colab_type": "code",
        "colab": {}
      },
      "source": [
        "print(all_boxes)"
      ],
      "execution_count": null,
      "outputs": []
    },
    {
      "cell_type": "code",
      "metadata": {
        "id": "8AndwPBNk9Xh",
        "colab_type": "code",
        "colab": {
          "base_uri": "https://localhost:8080/",
          "height": 34
        },
        "outputId": "99974585-8362-49bc-86e1-c0706d1854de"
      },
      "source": [
        "len(all_boxes)"
      ],
      "execution_count": 33,
      "outputs": [
        {
          "output_type": "execute_result",
          "data": {
            "text/plain": [
              "46"
            ]
          },
          "metadata": {
            "tags": []
          },
          "execution_count": 33
        }
      ]
    },
    {
      "cell_type": "code",
      "metadata": {
        "id": "IW28VCUFeXjK",
        "colab_type": "code",
        "colab": {}
      },
      "source": [
        "file= \"%s.txt\" %x"
      ],
      "execution_count": 35,
      "outputs": []
    },
    {
      "cell_type": "code",
      "metadata": {
        "id": "ZEiYZ8Yb3TPW",
        "colab_type": "code",
        "colab": {
          "base_uri": "https://localhost:8080/",
          "height": 34
        },
        "outputId": "a6c376a4-b15d-4f71-e068-922c0f882d55"
      },
      "source": [
        "print(file)"
      ],
      "execution_count": 36,
      "outputs": [
        {
          "output_type": "stream",
          "text": [
            "b53afdf5c.txt\n"
          ],
          "name": "stdout"
        }
      ]
    },
    {
      "cell_type": "code",
      "metadata": {
        "id": "afG_eAbnIFiJ",
        "colab_type": "code",
        "colab": {}
      },
      "source": [
        "#a='/content/yolo'\n",
        "b=file"
      ],
      "execution_count": 37,
      "outputs": []
    },
    {
      "cell_type": "code",
      "metadata": {
        "id": "0TIXPwDsIYEM",
        "colab_type": "code",
        "colab": {}
      },
      "source": [
        "#path=os.path.join(a,b#)"
      ],
      "execution_count": 38,
      "outputs": []
    },
    {
      "cell_type": "code",
      "metadata": {
        "id": "3RwReyEtcepX",
        "colab_type": "code",
        "colab": {}
      },
      "source": [
        "#os.mknod(path)"
      ],
      "execution_count": 213,
      "outputs": []
    },
    {
      "cell_type": "code",
      "metadata": {
        "id": "SMA6rVWW4neJ",
        "colab_type": "code",
        "colab": {}
      },
      "source": [
        "os.mknod(file)"
      ],
      "execution_count": 39,
      "outputs": []
    },
    {
      "cell_type": "code",
      "metadata": {
        "id": "rhU6cHtljT3N",
        "colab_type": "code",
        "colab": {}
      },
      "source": [
        " with open(file, 'a') as file: # append lines to file\n",
        "        for i in all_boxes:\n",
        "            s = \"0 %s %s %s %s \\n\"\n",
        "            new_line = (s % tuple(i))\n",
        "            file.write(new_line)"
      ],
      "execution_count": 40,
      "outputs": []
    }
  ]
}